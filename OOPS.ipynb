{
  "nbformat": 4,
  "nbformat_minor": 0,
  "metadata": {
    "colab": {
      "provenance": [],
      "authorship_tag": "ABX9TyPzReIo43zFltSUWQvLtWG4",
      "include_colab_link": true
    },
    "kernelspec": {
      "name": "python3",
      "display_name": "Python 3"
    },
    "language_info": {
      "name": "python"
    }
  },
  "cells": [
    {
      "cell_type": "markdown",
      "metadata": {
        "id": "view-in-github",
        "colab_type": "text"
      },
      "source": [
        "<a href=\"https://colab.research.google.com/github/SuchitaTripathi03/python/blob/main/OOPS.ipynb\" target=\"_parent\"><img src=\"https://colab.research.google.com/assets/colab-badge.svg\" alt=\"Open In Colab\"/></a>"
      ]
    },
    {
      "cell_type": "markdown",
      "source": [
        "THEORY QUESTIONS"
      ],
      "metadata": {
        "id": "oCruDYqm-ZMr"
      }
    },
    {
      "cell_type": "code",
      "execution_count": null,
      "metadata": {
        "id": "KOz3QO0N-PJI"
      },
      "outputs": [],
      "source": [
        "##QUES 1) What is Object-Oriented Programming (OOP)?"
      ]
    },
    {
      "cell_type": "markdown",
      "source": [
        "Object-Oriented Programming (OOP) is a programming paradigm based on the concept of \"objects.\" These objects represent real-world entities and are designed to contain both data (attributes) and functionality (methods) that operate on that data. This approach allows for better organization, modularity, and reusability in programming.\n",
        "\n",
        "Key Principles of OOP: Encapsulation: Objects bundle data and methods together, restricting direct access to some components to protect the integrity of the data.\n",
        "\n",
        "Inheritance: One class (child) can inherit properties and methods from another class (parent), promoting code reusability.\n",
        "\n",
        "Polymorphism: Objects or methods can take on multiple forms, allowing for the same operation to behave differently in different contexts.\n",
        "Abstraction: Hiding complex implementation details while exposing only the necessary functionality, making code easier to use and maintain.\n",
        "\n",
        "Languages like Java, Python, C++, and C# are popular for OOP. It's widely used in software development for creating scalable and maintainable applications."
      ],
      "metadata": {
        "id": "G9PlDwlK-kWT"
      }
    },
    {
      "cell_type": "code",
      "source": [
        "##QUES 2) What is a class in OOP?"
      ],
      "metadata": {
        "id": "pl7u5oaG-k2O"
      },
      "execution_count": null,
      "outputs": []
    },
    {
      "cell_type": "markdown",
      "source": [
        "A class in Object-Oriented Programming (OOP) is a blueprint or template for creating objects. It defines the structure and behavior that the objects created from it will have. Essentially, a class specifies the properties (attributes) and actions (methods) that its objects can possess or perform.Key Features of a Class: Attributes: Variables that hold data about the object. For example, if you have a Car class, attributes could include color, model, and speed.\n",
        "\n",
        "Methods: Functions defined in the class that describe the behavior or actions of the object. For instance, the Car class could have methods like drive() or brake().\n",
        "\n",
        "Instantiation: Using a class to create an object is called instantiation. Each object created from a class is called an instance. for example: class Car: def init(self, color, model): self.color = color # Attribute self.model = model # Attribute\n",
        "\n",
        "def drive(self):  # Method\n",
        "    print(f\"The {self.color} {self.model} is driving!\")\n",
        "Creating an object (instance) of the Car class\n",
        "my_car = Car(\"red\", \"Toyota\") my_car.drive() In this example, Car is the class, and my_car is an instance of that class."
      ],
      "metadata": {
        "id": "mNWZ-Px__lLT"
      }
    },
    {
      "cell_type": "code",
      "source": [
        "##QUES 3) What is an object in OOP?"
      ],
      "metadata": {
        "id": "KTwKEbTO-ll2"
      },
      "execution_count": null,
      "outputs": []
    },
    {
      "cell_type": "markdown",
      "source": [
        "An object in Object-Oriented Programming (OOP) is an instance of a class. Think of it as a specific, tangible representation of the blueprint (class) you created. Objects are the fundamental building blocks in OOP, combining data (attributes) and behavior (methods) into a single entity.\n",
        "\n",
        "Key Characteristics of an Object: Identity: Each object has a unique identity that distinguishes it from other objects, even if they belong to the same class.\n",
        "\n",
        "Attributes: These are the properties or data stored in the object. For example, a Car object might have attributes like color or model.\n",
        "\n",
        "Methods: These are the actions or functions that the object can perform. For example, a Car object might have methods like drive() or stop(). class Dog: def init(self, name, breed): self.name = name # Attribute self.breed = breed # Attribute\n",
        "\n",
        "def bark(self):  # Method\n",
        "    print(f\"{self.name} is barking!\")\n",
        "Creating an object (instance) of the Dog class\n",
        "my_dog = Dog(\"Buddy\", \"Golden Retriever\") print(my_dog.name) # Accessing an attribute my_dog.bark() # Calling a method In this example:\n",
        "\n",
        "Dog is the class.\n",
        "\n",
        "my_dog is an object, an instance of the Dog class.\n",
        "\n",
        "The attributes of the object are name (Buddy) and breed (Golden Retriever).\n",
        "\n",
        "The method bark() defines the behavior of the object."
      ],
      "metadata": {
        "id": "RqavVb81-qZe"
      }
    },
    {
      "cell_type": "code",
      "source": [
        "##QUES 4)  What is the difference between abstraction and encapsulation?"
      ],
      "metadata": {
        "id": "fc1AmYHZ-zb_"
      },
      "execution_count": null,
      "outputs": []
    },
    {
      "cell_type": "markdown",
      "source": [
        " Abstraction and encapsulation are two fundamental concepts in Object-Oriented Programming (OOP). While they are related and often complement each other, they serve different purposes. Here's a breakdown of the differences:\n",
        "\n",
        "Abstraction Definition: Abstraction focuses on hiding complexity by exposing only the essential features and functionalities to the user while keeping the implementation details hidden. Goal: To simplify interactions with objects or systems by providing a clear interface. How It's Achieved: Through abstract classes, interfaces, or methods in OOP. Focus: Hides the what (details of what an object can do) but doesn't concern itself with securing the underlying data. Example: When you use an ATM, you only interact with a simple interface (insert card, enter PIN, withdraw cash) without knowing the technical details of how the machine works internally. Encapsulation Definition: Encapsulation is the process of hiding data within an object and restricting access to it, allowing modifications only through controlled mechanisms (e.g., getters and setters).\n",
        "\n",
        "Goal: To protect and secure data from unintended interference and misuse. How It's Achieved: By using access specifiers (like private, protected, public) in OOP. Focus: Hides the how (details of how data is stored or manipulated within an object). Example: A class BankAccount may store sensitive data such as balance as a private attribute and provide methods like deposit() or withdraw() to control how it is accessed or modified. In summary, abstraction helps with designing a cleaner interface, while encapsulation ensures the secure handling of data within that interface."
      ],
      "metadata": {
        "id": "AslBLSai-tqH"
      }
    },
    {
      "cell_type": "code",
      "source": [
        "##QUES 5) What are dunder methods in Python?"
      ],
      "metadata": {
        "id": "jaymo4Jn-0NP"
      },
      "execution_count": null,
      "outputs": []
    },
    {
      "cell_type": "markdown",
      "source": [
        "Dunder methods (short for \"double underscore methods\"), also known as magic methods or special methods, are predefined methods in Python that have double underscores at the beginning and end of their names (e.g., init, str). These methods allow you to define the behavior of your objects in certain scenarios, such as how they should be represented as strings, compared, or initialized.\n",
        "\n",
        "Common Dunder Methods: 1)init: Initializes an object when it is created. class Person: def init(self, name): self.name = name\n",
        "\n",
        "p = Person(\"Alice\") print(p.name) # Output: Alice 2)str: Defines how the object is represented as a string (e.g., when you use print()). class Person: def init(self, name): self.name = name\n",
        "\n",
        "def _str_(self):\n",
        "    return f\"Person named {self.name}\"\n",
        "p = Person(\"Alice\") print(p) # Output: Person named Alice 3)add: Implements the behavior of the + operator for objects. class Number: def init(self, value): self.value = value\n",
        "\n",
        "def _add_(self, other):\n",
        "    return self.value + other.value\n",
        "n1 = Number(5) n2 = Number(10) print(n1 + n2) # Output: 15 4)len: Defines behavior for the len() function. class MyList: def init(self, items): self.items = items\n",
        "\n",
        "def _len_(self):\n",
        "    return len(self.items)\n",
        "lst = MyList([1, 2, 3]) print(len(lst)) # Output: 3 5)eq: Implements equality comparison (==) between objects. class Person: def init(self, name): self.name = name\n",
        "\n",
        "def _eq_(self, other):\n",
        "    return self.name == other.name\n",
        "p1 = Person(\"Alice\") p2 = Person(\"Alice\") print(p1 == p2) # Output: True"
      ],
      "metadata": {
        "id": "cgD6xv87-o0w"
      }
    },
    {
      "cell_type": "code",
      "source": [
        "##QUES 6) Explain the concept of inheritance in OOP?"
      ],
      "metadata": {
        "id": "RW4DPNhq-yCy"
      },
      "execution_count": null,
      "outputs": []
    },
    {
      "cell_type": "markdown",
      "source": [
        " Inheritance is a key concept in Object-Oriented Programming (OOP) that allows a class (called the child class or subclass) to inherit properties and behaviors from another class (called the parent class or superclass). This mechanism promotes code reuse and hierarchical classification, making programs easier to understand, extend, and maintain. Key Features of Inheritance: Code Reusability: Common functionality can be written in a parent class and reused in child classes.\n",
        "\n",
        "Hierarchical Structure: Helps model real-world relationships, like \"is-a\" relationships (e.g., a Dog is a Mammal).\n",
        "\n",
        "Extensibility: Child classes can add their own unique properties and methods while inheriting others from the parent class.\n",
        "\n",
        "Overriding: Child classes can override methods of the parent class to provide specific implementations.\n",
        "\n",
        "Types of Inheritance: Single Inheritance: A child class inherits from one parent class. class Animal: def eat(self): print(\"This animal eats food.\")\n",
        "\n",
        "class Dog(Animal): # Dog inherits from Animal def bark(self): print(\"The dog barks.\")\n",
        "\n",
        "d = Dog() d.eat() # Output: This animal eats food. d.bark() # Output: The dog barks. Multiple Inheritance: A child class inherits from more than one parent class. class A: def method_a(self): print(\"Method from class A.\")\n",
        "\n",
        "class B: def method_b(self): print(\"Method from class B.\")\n",
        "\n",
        "class C(A, B): # C inherits from A and B pass\n",
        "\n",
        "c = C() c.method_a() # Output: Method from class A. c.method_b() # Output: Method from class B.\n",
        "Multilevel Inheritance: A child class inherits from a parent class, which itself inherits from another class. class Animal: def eat(self): print(\"This animal eats food.\")\n",
        "\n",
        "class Mammal(Animal): def walk(self): print(\"This mammal walks.\")\n",
        "\n",
        "class Dog(Mammal): def bark(self): print(\"The dog barks.\")\n",
        "\n",
        "d = Dog() d.eat() # Output: This animal eats food. d.walk() # Output: This mammal walks. d.bark() # Output: The dog barks. Hierarchical Inheritance: Multiple child classes inherit from a single parent class. class Animal: def eat(self): print(\"This animal eats food.\")\n",
        "\n",
        "class Dog(Animal): def bark(self): print(\"The dog barks.\")\n",
        "\n",
        "class Cat(Animal): def meow(self): print(\"The cat meows.\")\n",
        "\n",
        "dog = Dog() dog.eat() # Output: This animal eats food. dog.bark() # Output: The dog barks.\n",
        "\n",
        "cat = Cat() cat.eat() # Output: This animal eats food. cat.meow() # Output: The cat meows. Hybrid Inheritance: A combination of two or more types of inheritance. It may involve multiple and multilevel inheritance."
      ],
      "metadata": {
        "id": "Fo-Sl4Nj-mMi"
      }
    },
    {
      "cell_type": "code",
      "source": [
        "##QUES 7) What is polymorphism in OOP?"
      ],
      "metadata": {
        "id": "OQb7TsJG-4nG"
      },
      "execution_count": null,
      "outputs": []
    },
    {
      "cell_type": "markdown",
      "source": [
        "Polymorphism in Object-Oriented Programming (OOP) is the ability of objects to take on multiple forms. It allows the same operation or method to behave differently based on the object it is acting upon. This makes programs more flexible, reusable, and easier to scale.\n",
        "\n",
        "Key Types of Polymorphism: Compile-Time Polymorphism (Static Binding):\n",
        "\n",
        "Achieved using method overloading.\n",
        "\n",
        "Involves defining multiple methods with the same name but different parameters within the same class.\n",
        "\n",
        "Example in Python: class Math: def add(self, a, b): return a + b\n",
        "\n",
        "def add(self, a, b, c=0):  # Overloaded method\n",
        "    return a + b + c\n",
        "m = Math() print(m.add(2, 3, 4)) # Output: 9 Run-Time Polymorphism (Dynamic Binding):\n",
        "\n",
        "Achieved using method overriding.\n",
        "\n",
        "Allows a child class to provide a specific implementation of a method that is already defined in its parent class.\n",
        "\n",
        "Example in Python: class Animal: def sound(self): print(\"This animal makes a sound.\")\n",
        "\n",
        "class Dog(Animal): def sound(self): # Method overriding print(\"The dog barks.\")\n",
        "\n",
        "a = Animal() a.sound() # Output: This animal makes a sound.\n",
        "\n",
        "d = Dog() d.sound() # Output: The dog barks. Key Benefits of Polymorphism: Code Reusability: Reduces redundancy by using a single interface for different data types or methods.\n",
        "\n",
        "Extensibility: Allows classes to define new behaviors while maintaining a common structure.\n",
        "\n",
        "Flexibility: Provides the ability to define generic interfaces, making code easier to extend or modify."
      ],
      "metadata": {
        "id": "ch-DxE0Y-5Ru"
      }
    },
    {
      "cell_type": "code",
      "source": [
        "##QUES 8) How is encapsulation achieved in Python?"
      ],
      "metadata": {
        "id": "Es1v-T-N-5sG"
      },
      "execution_count": null,
      "outputs": []
    },
    {
      "cell_type": "markdown",
      "source": [
        "encapsulation in Python is achieved by restricting direct access to an object's data (attributes) and providing controlled access through methods. This is typically implemented using access modifiers such as private, protected, and public attributes, along with getter and setter methods.\n",
        "\n",
        "Key Steps to Achieve Encapsulation: Define Attributes with Access Control:\n",
        "\n",
        "In Python, attributes are public by default. However, you can make them \"private\" or \"protected\" by using underscores:\n",
        "\n",
        "Public: Accessible from anywhere (self.attribute).\n",
        "\n",
        "Protected: Indicated by a single underscore (self._attribute); a convention to signal limited access.\n",
        "\n",
        "Private: Indicated by double underscores (self.attribute); restricts access to the class itself. example: class Person: def __init(self, name, age): self.name = name # Private attribute self.age = age # Private attribute\n",
        "\n",
        "# Getter for name\n",
        "def get_name(self):\n",
        "    return self.__name\n",
        "\n",
        "# Setter for name\n",
        "def set_name(self, name):\n",
        "    self.__name = name\n",
        "\n",
        "# Getter for age\n",
        "def get_age(self):\n",
        "    return self.__age\n",
        "\n",
        "# Setter for age\n",
        "def set_age(self, age):\n",
        "    if age > 0:  # Ensures only valid age values are set\n",
        "        self.__age = age\n",
        "    else:\n",
        "        print(\"Invalid age\")\n",
        "Create an object\n",
        "person = Person(\"Alice\", 25)\n",
        "\n",
        "Access and modify attributes using getters and setters\n",
        "print(person.get_name()) # Output: Alice person.set_age(30) # Update age print(person.get_age()) # Output: 30"
      ],
      "metadata": {
        "id": "Mm1PvQQb-6KG"
      }
    },
    {
      "cell_type": "code",
      "source": [
        "##QUES 9) What is a constructor in Python?"
      ],
      "metadata": {
        "id": "aWMtKSrD-6jD"
      },
      "execution_count": null,
      "outputs": []
    },
    {
      "cell_type": "markdown",
      "source": [
        "A constructor in Python is a special method used to initialize an object's attributes when the object is created. In Python, the constructor method is defined using the init method, which is automatically called when an object is instantiated from a class. This is part of Python's object-oriented programming features.\n",
        "\n",
        "Key Points About Constructors: Purpose: To initialize the attributes of an object with default or user-specified values. Syntax:\n",
        "\n",
        "It always has the name init and starts with self as the first parameter.\n",
        "\n",
        "The self parameter refers to the instance being created. for example: class Person: def init(self, name, age): self.name = name # Attribute initialization self.age = age # Attribute initialization\n",
        "\n",
        "def introduce(self):\n",
        "    print(f\"My name is {self.name} and I am {self.age} years old.\")\n",
        "Creating an object (instantiating the class)\n",
        "p = Person(\"Alice\", 25) # The init method is called automatically p.introduce() # Output: My name is Alice and I am 25 years old. Types of Constructors: Default Constructor: A constructor without any arguments except self. It initializes attributes with default values. Parameterized Constructor: A constructor that takes arguments to initialize attributes with user-specified values."
      ],
      "metadata": {
        "id": "K7vs9-iE-67v"
      }
    },
    {
      "cell_type": "code",
      "source": [
        "##QUES 10) What are class and static methods in Python?"
      ],
      "metadata": {
        "id": "qtvJm6Rv--T-"
      },
      "execution_count": null,
      "outputs": []
    },
    {
      "cell_type": "markdown",
      "source": [
        "In Python, class methods and static methods are types of methods defined within a class, and they serve different purposes. Class Methods Definition: A method that operates on the class itself rather than on an instance of the class. It can modify or access class-level attributes but not instance-specific attributes.\n",
        "\n",
        "Decorator: @classmethod\n",
        "\n",
        "First Parameter: The first parameter is cls, which refers to the class itself (instead of self, which refers to an instance).\n",
        "\n",
        "Usage: Useful for creating factory methods, accessing class variables, or methods that affect the class as a whole.\n",
        "\n",
        "Example: class Employee: raise_percent = 1.05 # Class attribute\n",
        "\n",
        "def _init_(self, name, salary):\n",
        "    self.name = name\n",
        "    self.salary = salary\n",
        "\n",
        "@classmethod\n",
        "def set_raise_percent(cls, percent):\n",
        "    cls.raise_percent = percent  # Modify class attribute\n",
        "\n",
        "@classmethod\n",
        "def from_string(cls, emp_str):  # Factory method\n",
        "    name, salary = emp_str.split('-')\n",
        "    return cls(name, float(salary))\n",
        "Modify class attribute using a class method\n",
        "Employee.set_raise_percent(1.10)\n",
        "\n",
        "Create an instance using a factory method\n",
        "emp = Employee.from_string(\"Alice-50000\") print(emp.raise_percent) # Output: 1.10 Static Methods Definition: A method that does not depend on either the class (cls) or an instance (self). It is more like a regular function, but it's logically grouped within a class.\n",
        "\n",
        "Decorator: @staticmethod\n",
        "\n",
        "First Parameter: No cls or self parameter is needed.\n",
        "\n",
        "Usage: Useful for utility functions that are relevant to the class but do not require access to class or instance data. class MathOperations: @staticmethod def add_numbers(a, b): return a + b\n",
        "\n",
        "@staticmethod\n",
        "def multiply_numbers(a, b):\n",
        "    return a * b\n",
        "Call static methods without creating an instance\n",
        "print(MathOperations.add_numbers(5, 3)) # Output: 8 print(MathOperations.multiply_numbers(5, 3)) # Output: 15 In summary:\n",
        "\n",
        "Use class methods when you need to interact with the class as a whole.\n",
        "\n",
        "Use static methods for utility functions that are logically tied to the class.\n",
        "Decorator: @staticmethod\n",
        "\n",
        "First Parameter: No cls or self parameter is needed.\n",
        "\n",
        "Usage: Useful for utility functions that are relevant to the class but do not require access to class or instance data. class MathOperations: @staticmethod def add_numbers(a, b): return a + b\n",
        "\n",
        "@staticmethod\n",
        "def multiply_numbers(a, b):\n",
        "    return a * b\n",
        "Call static methods without creating an instance\n",
        "print(MathOperations.add_numbers(5, 3)) # Output: 8 print(MathOperations.multiply_numbers(5, 3)) # Output: 15 In summary:\n",
        "\n",
        "Use class methods when you need to interact with the class as a whole.\n",
        "\n",
        "Use static methods for utility functions that are logically tied to the class."
      ],
      "metadata": {
        "id": "mAN6AJ2y-_Mu"
      }
    },
    {
      "cell_type": "code",
      "source": [
        "##QUES 11) What is method overloading in Python?"
      ],
      "metadata": {
        "id": "m0fiG4e6-_q2"
      },
      "execution_count": null,
      "outputs": []
    },
    {
      "cell_type": "markdown",
      "source": [
        "In Python, method overloading refers to the ability to define multiple methods with the same name in a class but with different numbers or types of parameters. While many other programming languages (like Java or C++) natively support method overloading, Python handles it differently because it doesn’t support traditional overloading.\n",
        "\n",
        "In Python, if you define multiple methods with the same name in a class, the last definition will overwrite the previous ones. However, you can simulate method overloading using techniques like default arguments, variable arguments (args or *kwargs), or by explicitly checking the types or number of arguments.\n",
        "\n",
        "Example: Using Default Arguments class Example: def greet(self, name=None): if name: print(f\"Hello, {name}!\") else: print(\"Hello, world!\")\n",
        "\n",
        "obj = Example() obj.greet() # Output: Hello, world! obj.greet(\"Alice\") # Output: Hello, Alice!\n",
        "Example: Using Variable Arguments class Calculator: def add(self, *numbers): return sum(numbers)\n",
        "\n",
        "calc = Calculator() print(calc.add(2, 3)) # Output: 5 print(calc.add(1, 2, 3, 4)) # Output: 10 Example: Checking the Number or Types of Arguments class Operation: def execute(self, a, b=None): if b is not None: return a + b # Handles two arguments return a * a # Handles one argument\n",
        "\n",
        "op = Operation() print(op.execute(5)) # Output: 25 (square of 5) print(op.execute(5, 10)) # Output: 15 (sum of 5 and 10) Python's dynamic and flexible nature allows these patterns to achieve method overloading-like behavior without needing explicit method definitions with varying parameters. Its approach is simpler and more \"Pythonic.\""
      ],
      "metadata": {
        "id": "qlB7GqZd_CvO"
      }
    },
    {
      "cell_type": "code",
      "source": [
        "##QUES 12)  What is method overriding in OOP?"
      ],
      "metadata": {
        "id": "EDTLNxIy_ELn"
      },
      "execution_count": null,
      "outputs": []
    },
    {
      "cell_type": "markdown",
      "source": [
        "Method overriding in Object-Oriented Programming (OOP) occurs when a child class provides a specific implementation of a method that is already defined in its parent class. This allows the child class to modify or extend the behavior of the inherited method.\n",
        "\n",
        "Key Features of Method Overriding: Same Method Signature: The overridden method in the child class must have the same name, return type, and parameters as the method in the parent class.\n",
        "\n",
        "Inheritance: Method overriding happens in the context of inheritance, where a child class inherits from a parent class.\n",
        "\n",
        "Runtime Polymorphism: Overriding is a key aspect of polymorphism, as the method to be executed is determined at runtime based on the object being referenced.\n",
        "\n",
        "Purpose of Method Overriding: To customize or extend the behavior of a parent class method.\n",
        "\n",
        "To define specific behavior for the child class while maintaining a consistent method interface. for example: class Animal: def sound(self): print(\"This animal makes a sound.\")\n",
        "\n",
        "class Dog(Animal): # Dog inherits from Animal def sound(self): # Overriding the parent class method print(\"The dog barks.\")\n",
        "\n",
        "class Cat(Animal): # Cat inherits from Animal def sound(self): # Overriding the parent class method print(\"The cat meows.\")\n",
        "\n",
        "Instances\n",
        "animal = Animal() dog = Dog() cat = Cat()\n",
        "\n",
        "Method calls\n",
        "animal.sound() # Output: This animal makes a sound. dog.sound() # Output: The dog barks. cat.sound() # Output: The cat meows."
      ],
      "metadata": {
        "id": "0AXMQuiO_E2V"
      }
    },
    {
      "cell_type": "code",
      "source": [
        "##QUES 13) What is a property decorator in Python?"
      ],
      "metadata": {
        "id": "uQdF67m__Fo2"
      },
      "execution_count": null,
      "outputs": []
    },
    {
      "cell_type": "markdown",
      "source": [
        "The property decorator in Python is a built-in feature that allows you to define methods in a class that can be accessed like attributes. It's often used to implement getter, setter, and deleter methods in a clean and concise way, without explicitly calling the method. This makes your class attributes more versatile and easier to manage, while maintaining encapsulation.\n",
        "\n",
        "How property Works: It transforms a method into a \"read-only\" attribute by default (a getter).\n",
        "\n",
        "You can extend it by adding a setter or deleter for the property.\n",
        "\n",
        "It allows for controlled access to attributes, making it useful for validation or computed properties. Basic Example of @property: class Circle: def init(self, radius): self._radius = radius # Private attribute\n",
        "\n",
        "@property\n",
        "def radius(self):  # Getter method\n",
        "    return self._radius\n",
        "\n",
        "@radius.setter\n",
        "def radius(self, value):  # Setter method\n",
        "    if value >= 0:\n",
        "        self._radius = value\n",
        "    else:\n",
        "        raise ValueError(\"Radius must be non-negative\")\n",
        "c = Circle(5) print(c.radius) # Access as an attribute, Output: 5\n",
        "\n",
        "c.radius = 10 # Update using the setter print(c.radius) # Output: 10\n",
        "\n",
        "c.radius = -3 # Raises ValueError Explanation: The @property decorator turns the radius() method into a getter.\n",
        "\n",
        "The @radius.setter decorator allows the radius property to have a custom setter, which checks if the value is valid before updating it.\n",
        "\n",
        "The user interacts with radius like an attribute (e.g., c.radius), but under the hood, the getter or setter is called."
      ],
      "metadata": {
        "id": "A96OIB1d_GO3"
      }
    },
    {
      "cell_type": "code",
      "source": [
        "##QUES 14) Why is polymorphism important in OOP?"
      ],
      "metadata": {
        "id": "yu3kamIp_GpM"
      },
      "execution_count": null,
      "outputs": []
    },
    {
      "cell_type": "markdown",
      "source": [
        "Polymorphism is a cornerstone of Object-Oriented Programming (OOP) because it enhances the flexibility, scalability, and readability of code. Its importance lies in how it enables objects of different classes to be treated as objects of a common superclass, allowing for dynamic and interchangeable behavior. Here’s why polymorphism is so valuable in OOP: Code Reusability and Maintainability:\n",
        "\n",
        "Polymorphism allows you to define a generic interface in a parent class, and the child classes can implement their specific behavior. This reduces duplication and makes the code easier to maintain.\n",
        "\n",
        "Example: A generic Shape class might have a method area(), which is implemented differently in subclasses like Circle or Rectangle.\n",
        "\n",
        "Dynamic Behavior (Runtime Flexibility):\n",
        "\n",
        "Polymorphism allows the program to decide at runtime which implementation of a method to call. This is vital for creating flexible and extensible applications.\n",
        "\n",
        "Example: A list of Animal objects can include Dog, Cat, or Bird, and calling make_sound() on each object will produce the appropriate result based on the specific class.\n",
        "\n",
        "Scalability:\n",
        "\n",
        "New behaviors can be easily added by creating additional subclasses without modifying the existing code. This makes applications more scalable.\n",
        "\n",
        "Example: A new Triangle subclass can be introduced to the Shape hierarchy without changing the rest of the codebase.\n",
        "\n",
        "Abstraction and Modularity:\n",
        "\n",
        "Polymorphism hides the implementation details and encourages modular design by working through a common interface. This improves the clarity of code.\n",
        "\n",
        "Example: You can sort a collection of different objects, like Employee or Student, using a common interface to compare attributes.\n",
        "\n",
        "Improved Collaboration:\n",
        "\n",
        "In large-scale projects, polymorphism allows developers to work independently on different parts of the application by relying on predefined interfaces or abstract classes."
      ],
      "metadata": {
        "id": "IVW45g5s_G_k"
      }
    },
    {
      "cell_type": "code",
      "source": [
        "##QUES 15) What is an abstract class in Python?"
      ],
      "metadata": {
        "id": "h31QOU9q_Hbt"
      },
      "execution_count": null,
      "outputs": []
    },
    {
      "cell_type": "markdown",
      "source": [
        "An abstract class in Python is a class that serves as a blueprint for other classes. It cannot be instantiated directly, and it often includes one or more abstract methods that must be implemented by its child classes. Abstract classes are used to define a common interface or structure for a group of related classes while enforcing that specific methods are implemented in the subclasses. for example: from abc import ABC, abstractmethod\n",
        "\n",
        "class Animal(ABC): # Abstract class inheriting from ABC @abstractmethod def sound(self): # Abstract method pass\n",
        "\n",
        "def sleep(self):  # Concrete method\n",
        "    print(\"This animal is sleeping.\")\n",
        "class Dog(Animal): # Subclass of Animal def sound(self): # Implementation of the abstract method print(\"Bark!\")\n",
        "\n",
        "class Cat(Animal): # Subclass of Animal def sound(self): print(\"Meow!\")\n",
        "\n",
        "Instantiation of abstract class is not allowed\n",
        "animal = Animal() # This will raise a TypeError\n",
        "Instantiation of subclasses\n",
        "dog = Dog() cat = Cat()\n",
        "\n",
        "dog.sound() # Output: Bark! cat.sound() # Output: Meow! dog.sleep() # Output: This animal is sleeping. Abstract classes are particularly useful when designing large-scale systems where a consistent interface is essential. They provide a powerful way to combine flexibility with structure."
      ],
      "metadata": {
        "id": "E2WmLdJ2_J6D"
      }
    },
    {
      "cell_type": "code",
      "source": [
        "##QUES 16) What are the advantages of OOP?"
      ],
      "metadata": {
        "id": "QjzKI5R7_IbR"
      },
      "execution_count": null,
      "outputs": []
    },
    {
      "cell_type": "markdown",
      "source": [
        "Object-Oriented Programming (OOP) offers numerous advantages that make it a preferred programming paradigm for designing complex and scalable applications. Here are some of the key benefits:\n",
        "\n",
        "Code Reusability OOP promotes reusability by allowing developers to create classes that can be used across multiple projects or parts of an application.\n",
        "Features like inheritance enable child classes to reuse and extend the functionality of parent classes, reducing redundant code.\n",
        "\n",
        "Modularity and Organization Code is organized into objects and classes, making it easier to understand, debug, and maintain.\n",
        "Each class focuses on a specific functionality, fostering modular design.\n",
        "\n",
        "Scalability OOP makes it easier to expand and scale applications. New features and functionalities can be added by creating new classes or extending existing ones without disturbing the existing codebase.\n",
        "\n",
        "Abstraction OOP allows you to hide the complexity of implementation from the user by exposing only the essential features through abstraction. This makes code easier to use and manage.\n",
        "\n",
        "Encapsulation By bundling data (attributes) and methods (functions) into a single entity (class) and restricting direct access to the data, OOP enhances security and integrity. Controlled access is typically achieved through getter and setter methods.\n",
        "\n",
        "Polymorphism Through polymorphism, OOP enables objects of different types to be treated uniformly. This flexibility simplifies code and enhances its adaptability to changing requirements.\n",
        "\n",
        "Real-World Mapping OOP is based on objects, which are inspired by real-world entities. This approach makes it intuitive to model complex systems like businesses, games, and simulations in code.\n",
        "\n",
        "Flexibility and Extensibility With features like method overriding and dynamic binding, OOP provides the flexibility to redefine behavior while keeping the core structure intact.\n",
        "\n",
        "Improved Code Maintenance With the modular nature of OOP, fixing bugs or making updates becomes easier because changes in one class don't necessarily impact others.\n",
        "\n",
        "Collaboration in Team Environments OOP allows teams to work on different parts of a project independently. For instance, one team can work on a class for managing user accounts, while another works on a class for handling payments."
      ],
      "metadata": {
        "id": "VbilRgTR_K2-"
      }
    },
    {
      "cell_type": "code",
      "source": [
        "##QUES 17) What is the difference between a class variable and an instance variable?"
      ],
      "metadata": {
        "id": "lbUM0U_g_LXQ"
      },
      "execution_count": null,
      "outputs": []
    },
    {
      "cell_type": "markdown",
      "source": [
        "In Python, class variables and instance variables serve different purposes and are defined at different levels within a class. Class Variable Definition: A class variable is shared across all instances of the class. It is defined at the class level, not within any specific method (usually outside of the init method).\n",
        "\n",
        "Scope: Accessible by all instances of the class and the class itself.\n",
        "\n",
        "Storage: Only one copy of the class variable exists, and changes made to it are reflected across all instances.\n",
        "\n",
        "Usage: Used for constants or attributes that need to be shared among all objects of the class.\n",
        "\n",
        "Example: class Animal: kingdom = \"Animalia\" # Class variable\n",
        "\n",
        "def _init_(self, name):\n",
        "    self.name = name  # Instance variable\n",
        "Accessing class variable\n",
        "print(Animal.kingdom) # Output: Animalia\n",
        "\n",
        "Modifying class variable\n",
        "a1 = Animal(\"Lion\") a2 = Animal(\"Tiger\") a1.kingdom = \"Plantae\" # Overriding for the instance a1 print(Animal.kingdom)\n",
        "Instance Variable Definition: An instance variable is unique to each object (or instance) and stores data that is specific to that object.\n",
        "\n",
        "Scope: Belongs to a particular instance, and changes to it do not affect other instances.\n",
        "\n",
        "Storage: Each object has its own copy of instance variables, stored in the object’s memory.\n",
        "\n",
        "Usage: Used to store data specific to a single object, such as its unique properties or state. example: class Animal: kingdom = \"Animalia\" # Class variable\n",
        "\n",
        "def _init_(self, name, species):\n",
        "    self.name = name      # Instance variable\n",
        "    self.species = species  # Instance variable\n",
        "Creating instances\n",
        "a1 = Animal(\"Lion\", \"Panthera leo\") a2 = Animal(\"Tiger\", \"Panthera tigris\")\n",
        "\n",
        "Accessing instance variables\n",
        "print(a1.name, a1.species) # Output: Lion Panthera leo print(a2.name, a2.species) # Output: Tiger Panthera tigris"
      ],
      "metadata": {
        "id": "md7v_BfS_L0L"
      }
    },
    {
      "cell_type": "code",
      "source": [
        "##QUES 18) What is multiple inheritance in Python?"
      ],
      "metadata": {
        "id": "MLjto9uD_M1z"
      },
      "execution_count": null,
      "outputs": []
    },
    {
      "cell_type": "markdown",
      "source": [
        "Multiple inheritance in Python is a feature that allows a class to inherit from more than one parent class. This means that the child class inherits attributes and methods from all the parent classes, enabling the combination of functionalities from multiple sources.\n",
        "\n",
        "Key Characteristics: Syntax: A class is declared with multiple parent classes in parentheses, separated by commas.\n",
        "\n",
        "Attribute/Method Inheritance: The child class gains access to all attributes and methods from its parent classes.\n",
        "\n",
        "Method Resolution Order (MRO): Python resolves any conflicts (e.g., methods with the same name in parent classes) using the MRO. It uses the C3 linearization algorithm to determine the order in which classes are searched. class Animal: def eat(self): print(\"This animal eats food.\")\n",
        "\n",
        "class Bird: def fly(self): print(\"This bird can fly.\")\n",
        "\n",
        "class Bat(Animal, Bird): # Bat inherits from both Animal and Bird def hang(self): print(\"This bat hangs upside down.\")\n",
        "\n",
        "Create an instance of Bat\n",
        "bat = Bat() bat.eat() # Output: This animal eats food. (inherited from Animal) bat.fly() # Output: This bird can fly. (inherited from Bird) bat.hang() # Output: This bat hangs upside down. (specific to Bat)"
      ],
      "metadata": {
        "id": "BpBihsNT_NOz"
      }
    },
    {
      "cell_type": "code",
      "source": [
        "##QUES 19) Explain the purpose of ‘’__str__’ and ‘__repr__’ ‘ methods in Python."
      ],
      "metadata": {
        "id": "0SsAoefG_OKs"
      },
      "execution_count": null,
      "outputs": []
    },
    {
      "cell_type": "markdown",
      "source": [
        "In Python, str and repr are special or dunder methods that define how objects are represented as strings. These methods allow you to customize the string representation of an object, making it more human-readable (str) or developer-focused (repr). str Method Purpose: Provides a \"pretty\" or user-friendly string representation of an object. This is typically what you'd want end-users to see.\n",
        "\n",
        "When It's Called: Invoked when you use the str() function or print() on an object.Example: class Person: def init(self, name, age): self.name = name self.age = age\n",
        "\n",
        "def _str_(self):\n",
        "    return f\"{self.name} is {self.age} years old.\"\n",
        "person = Person(\"Alice\", 30) print(person) # Output: Alice is 30 years old. repr Method Purpose: Provides a string representation that is more developer-focused and typically includes enough information to recreate the object (if possible). Its main goal is debugging and logging.\n",
        "\n",
        "When It's Called: Invoked when you use the repr() function, or when you inspect the object in an interactive session or debugger. Example: class Person: def init(self, name, age): self.name = name self.age = age\n",
        "\n",
        "def _repr_(self):\n",
        "    return f\"Person(name='{self.name}', age={self.age})\"\n",
        "person = Person(\"Alice\", 30) print(repr(person)) # Output: Person(name='Alice', age=30)"
      ],
      "metadata": {
        "id": "lvNAcwUd_OnV"
      }
    },
    {
      "cell_type": "code",
      "source": [
        "##QUES 20) What is the significance of the ‘super()’ function in Python?"
      ],
      "metadata": {
        "id": "255d9aGT_PUo"
      },
      "execution_count": null,
      "outputs": []
    },
    {
      "cell_type": "markdown",
      "source": [
        "The super() function in Python is a built-in method that allows you to call a method from a parent (or superclass) within a child (or subclass). It is most commonly used in the context of inheritance to access and initialize parent class methods or properties. Here's why it's significant:\n",
        "\n",
        "Significance of super():\n",
        "Access Parent Class Methods and Attributes:\n",
        "\n",
        "The super() function provides a straightforward way to invoke methods or access properties from the parent class, ensuring that the parent class functionality is retained in the child class.\n",
        "\n",
        "Avoid Repetition:\n",
        "\n",
        "By using super(), you avoid duplicating code from the parent class in the child class. It ensures better maintainability and reusability.\n",
        "\n",
        "Support for Multiple Inheritance:\n",
        "\n",
        "In Python's multiple inheritance, super() plays a crucial role in managing the Method Resolution Order (MRO). It ensures that the appropriate parent method is called in a consistent and predictable way.\n",
        "\n",
        "Dynamic Resolution:\n",
        "\n",
        "The super() function dynamically resolves which class’s method to call based on the inheritance hierarchy. This makes it particularly useful for extensibility in large, complex systems.\n",
        "In summary, the super() function is a powerful tool for ensuring clean, maintainable, and extendable code when working with inheritance. It seamlessly manages parent-child relationships and avoids potential pitfalls in multiple inheritance."
      ],
      "metadata": {
        "id": "ko-sSASC_PxB"
      }
    },
    {
      "cell_type": "code",
      "source": [
        "##QUES 21)  What is the significance of the __del__ method in Python?"
      ],
      "metadata": {
        "id": "F9wxbYhyBVBK"
      },
      "execution_count": null,
      "outputs": []
    },
    {
      "cell_type": "markdown",
      "source": [
        " The del method in Python is a special or \"magic\" method, also known as the destructor. It is called automatically when an object is about to be destroyed, which usually happens when there are no more references to the object. The primary purpose of the del method is to perform cleanup tasks, such as releasing resources, closing files, or disconnecting from a database.The del method is called by Python's garbage collector when the object is no longer in use. Syntax:def del(self): When to Use del: Resource Cleanup: To release memory, close files, or disconnect network connections.\n",
        "\n"
      ],
      "metadata": {
        "id": "4ALi5JykBV3D"
      }
    },
    {
      "cell_type": "code",
      "source": [
        "##QUES 22) What is the difference between @staticmethod and @classmethod in Python?"
      ],
      "metadata": {
        "id": "PEPd-cv2BWfL"
      },
      "execution_count": null,
      "outputs": []
    },
    {
      "cell_type": "markdown",
      "source": [
        "n Python, both @staticmethod and @classmethod are decorators used to define methods that aren't typical instance methods, but they serve different purposes.  Distinction between the two is as follows:\n",
        "\n",
        "@staticmethod Definition: A static method is a method that doesn't depend on the class or an instance for its behavior.\n",
        "\n",
        "First Argument: It doesn't take self (instance reference) or cls (class reference) as its first argument.\n",
        "\n",
        "Purpose: Used for utility functions or operations that logically belong to the class but don't need access to class or instance data.\n",
        "\n",
        "Usage: Can be called directly on the class or an instance.\n",
        "\n",
        "Decorator: @staticmethod. example: class Math: @staticmethod def add(a, b): return a + b\n",
        "\n",
        "Call the static method\n",
        "print(Math.add(5, 3)) # Output: 8 In this example, add() doesn’t use any instance or class-specific data—it simply performs a calculation.\n",
        "\n",
        "@classmethod Definition: A class method is a method that works with the class itself rather than an instance.\n",
        "\n",
        "First Argument: Takes cls (class reference) as its first argument, which allows it to modify class variables or interact with the class.\n",
        "\n",
        "Purpose: Often used for factory methods or operations that require information about the class.\n",
        "\n",
        "Usage: Can also be called directly on the class or an instance.\n",
        "\n",
        "Decorator: @classmethod. Example: class Employee: base_salary = 10000 # Class variable\n",
        "\n",
        "@classmethod\n",
        "def set_base_salary(cls, new_salary):\n",
        "    cls.base_salary = new_salary  # Modifies class variable\n",
        "Call the class method\n",
        "Employee.set_base_salary(12000) print(Employee.base_salary) # Output: 12000 In this example, set_base_salary() modifies a class-level attribute (base_salary) using the class reference cls."
      ],
      "metadata": {
        "id": "AZWDLR-0BXYL"
      }
    },
    {
      "cell_type": "code",
      "source": [
        "##QUES 23) How does polymorphism work in Python with inheritance?"
      ],
      "metadata": {
        "id": "VwVcCwl8BYTC"
      },
      "execution_count": null,
      "outputs": []
    },
    {
      "cell_type": "markdown",
      "source": [
        "Polymorphism in Python works seamlessly with inheritance, allowing objects of different subclasses to be treated as objects of their parent class. It enables dynamic behavior, where the same method or operation can have different implementations depending on the class of the object being used. This is a key component of Python's flexibility and is heavily used to promote code reusability and extensibility.\n",
        "How Polymorphism Works with Inheritance\n",
        "Parent Class Defines Common Interface:\n",
        "\n",
        "The parent class contains a method that is intended to be overridden by its child classes. This acts as a template or interface.\n",
        "\n",
        "Child Classes Override or Extend Behavior:\n",
        "\n",
        "Subclasses provide their own implementations for the inherited method, which can differ from the parent class.\n",
        "\n",
        "Dynamic Dispatch:\n",
        "\n",
        "At runtime, the method called on an object depends on the type of the object, not on the type of reference pointing to it. This is also known as runtime polymorphism.\n",
        "Example: Polymorphism with Inheritance\n",
        "class Animal:\n",
        "    def make_sound(self):  # Parent class method\n",
        "        print(\"This animal makes a sound.\")\n",
        "\n",
        "class Dog(Animal):\n",
        "    def make_sound(self):  # Overriding method\n",
        "        print(\"The dog barks.\")\n",
        "\n",
        "class Cat(Animal):\n",
        "    def make_sound(self):  # Overriding method\n",
        "        print(\"The cat meows.\")\n",
        "\n",
        "# Function demonstrating polymorphism\n",
        "def animal_sound(animal):\n",
        "    animal.make_sound()\n",
        "\n",
        "# Instances of subclasses\n",
        "dog = Dog()\n",
        "cat = Cat()\n",
        "\n",
        "# Treating all objects as instances of the parent class\n",
        "animal_sound(dog)  # Output: The dog barks.\n",
        "animal_sound(cat)  # Output: The cat meows.\n",
        "Key Takeaways in This Example:\n",
        "Common Interface: The Animal class defines a generic make_sound() method.\n",
        "\n",
        "Overriding: The Dog and Cat subclasses override the make_sound() method with their own implementations.\n",
        "\n",
        "Dynamic Behavior: The animal_sound() function accepts an object of the Animal type, but the method executed is determined at runtime based on the object's actual class.\n",
        "Dynamic Dispatch:\n",
        "\n",
        "At runtime, the method called on an object depends on the type of the object, not on the type of reference pointing to it. This is also known as runtime polymorphism.\n",
        "Example: Polymorphism with Inheritance\n",
        "class Animal:\n",
        "    def make_sound(self):  # Parent class method\n",
        "        print(\"This animal makes a sound.\")\n",
        "\n",
        "class Dog(Animal):\n",
        "    def make_sound(self):  # Overriding method\n",
        "        print(\"The dog barks.\")\n",
        "\n",
        "class Cat(Animal):\n",
        "    def make_sound(self):  # Overriding method\n",
        "        print(\"The cat meows.\")\n",
        "\n",
        "# Function demonstrating polymorphism\n",
        "def animal_sound(animal):\n",
        "    animal.make_sound()\n",
        "\n",
        "# Instances of subclasses\n",
        "dog = Dog()\n",
        "cat = Cat()\n",
        "\n",
        "# Treating all objects as instances of the parent class\n",
        "animal_sound(dog)  # Output: The dog barks.\n",
        "animal_sound(cat)  # Output: The cat meows.\n",
        "Key Takeaways in This Example:\n",
        "Common Interface: The Animal class defines a generic make_sound() method.\n",
        "\n",
        "Overriding: The Dog and Cat subclasses override the make_sound() method with their own implementations.\n",
        "\n",
        "Dynamic Behavior: The animal_sound() function accepts an object of the Animal type, but the method executed is determined at runtime based on the object's actual class."
      ],
      "metadata": {
        "id": "8q80CB_qBYsB"
      }
    },
    {
      "cell_type": "code",
      "source": [
        "##QUES 24) What is method chaining in Python OOP?"
      ],
      "metadata": {
        "id": "WrBogKgyBtvt"
      },
      "execution_count": null,
      "outputs": []
    },
    {
      "cell_type": "markdown",
      "source": [
        "Method chaining is a technique in object-oriented programming where multiple methods are called on the same object in a single statement. This is achieved by having each method return self, allowing consecutive method calls to be linked together.\n",
        "\n",
        "Benefits of Method Chaining\n",
        "Improves readability by making the code more concise.\n",
        "Eliminates intermediate variables, reducing clutter.\n",
        "Encourages a fluent interface design, making object manipulation intuitive.\n",
        "Example of Method Chaining\n",
        "class Car:\n",
        "    def __init__(self, brand):\n",
        "        self.brand = brand\n",
        "        self.speed = 0\n",
        "\n",
        "    def accelerate(self, amount):\n",
        "        self.speed += amount\n",
        "        return self  # Returning self allows chaining\n",
        "\n",
        "    def brake(self, amount):\n",
        "        self.speed -= amount\n",
        "        return self  # Returning self allows chaining\n",
        "\n",
        "    def display_speed(self):\n",
        "        print(f\"{self.brand} is going {self.speed} mph\")\n",
        "        return self  # Returning self allows further chaining\n",
        "\n",
        "# Example usage\n",
        "car = Car(\"Tesla\")\n",
        "car.accelerate(30).brake(10).display_speed()\n",
        "Output\n",
        "Tesla is going 20 mph\n",
        "Each method modifies the object and returns self, enabling a sequence of method calls without needing separate statements."
      ],
      "metadata": {
        "id": "EasHH7FwB-Fi"
      }
    },
    {
      "cell_type": "code",
      "source": [
        "##QUES 25) What is the purpose of the __call__ method in Python?"
      ],
      "metadata": {
        "id": "2SOtpCpUB-1t"
      },
      "execution_count": null,
      "outputs": []
    },
    {
      "cell_type": "markdown",
      "source": [
        "The __call__ method in Python allows an instance of a class to be called as if it were a function. When defined in a class, it enables objects to be invoked using parentheses, just like calling a regular function.\n",
        "\n",
        "Purpose of __call__:\n",
        "Makes an Object Callable – Allows an instance of a class to be used as a function.\n",
        "Encapsulates Logic – Can store state and execute complex operations when the object is called.\n",
        "Enhances Readability – Provides a clean way to define behaviors without requiring explicit method names.\n",
        "Example:\n",
        "class Multiplier:\n",
        "    def __init__(self, factor):\n",
        "        self.factor = factor\n",
        "\n",
        "    def __call__(self, value):\n",
        "        return value * self.factor\n",
        "\n",
        "# Creating an instance\n",
        "double = Multiplier(2)\n",
        "triple = Multiplier(3)\n",
        "\n",
        "# Using the instance as a function\n",
        "print(double(5))  # Output: 10\n",
        "print(triple(5))  # Output: 15\n"
      ],
      "metadata": {
        "id": "Ejsh-kSQCGHl"
      }
    },
    {
      "cell_type": "markdown",
      "source": [
        "PRACTICAL QUESTIONS"
      ],
      "metadata": {
        "id": "1NbNy0NWCN39"
      }
    },
    {
      "cell_type": "code",
      "source": [
        "##QUES 1)  Create a parent class Animal with a method speak() that prints a generic message. Create a child class Dog\n",
        "##         that overrides the speak() method to print \"Bark!\".\n",
        "class Animal:\n",
        "    def speak(self):\n",
        "        print(\"This animal makes a sound.\")\n",
        "\n",
        "class Dog(Animal):\n",
        "    def speak(self):\n",
        "        print(\"Bark!\")\n",
        "\n",
        "# Example usage\n",
        "animal = Animal()\n",
        "animal.speak()\n",
        "\n",
        "dog = Dog()\n",
        "dog.speak()"
      ],
      "metadata": {
        "colab": {
          "base_uri": "https://localhost:8080/"
        },
        "id": "zu45hJXmCEGr",
        "outputId": "d41b2468-7fdf-4b96-80cd-d211f7f7a9fc"
      },
      "execution_count": 2,
      "outputs": [
        {
          "output_type": "stream",
          "name": "stdout",
          "text": [
            "This animal makes a sound.\n",
            "Bark!\n"
          ]
        }
      ]
    },
    {
      "cell_type": "code",
      "source": [
        "## QUES 2) Write a program to create an abstract class Shape with a method area(). Derive classes Circle and Rectangle\n",
        "##from it and implement the area() method in both.\n",
        "from abc import ABC, abstractmethod\n",
        "\n",
        "class Shape(ABC):\n",
        "    @abstractmethod\n",
        "    def area(self):\n",
        "        pass\n",
        "\n",
        "class Circle(Shape):\n",
        "    def __init__(self, radius):\n",
        "        self.radius = radius\n",
        "\n",
        "    def area(self):\n",
        "        return 3.1416 * self.radius * self.radius\n",
        "\n",
        "class Rectangle(Shape):\n",
        "    def __init__(self, length, width):\n",
        "        self.length = length\n",
        "        self.width = width\n",
        "\n",
        "    def area(self):\n",
        "        return self.length * self.width\n",
        "\n",
        "# Example usage\n",
        "circle = Circle(5)\n",
        "print(\"Circle Area:\", circle.area())\n",
        "\n",
        "rectangle = Rectangle(4, 6)\n",
        "print(\"Rectangle Area:\", rectangle.area())\n"
      ],
      "metadata": {
        "colab": {
          "base_uri": "https://localhost:8080/"
        },
        "id": "neZIb-12G59c",
        "outputId": "f516a6d2-7dfb-4cae-bded-f8314afe89c8"
      },
      "execution_count": 3,
      "outputs": [
        {
          "output_type": "stream",
          "name": "stdout",
          "text": [
            "Circle Area: 78.54\n",
            "Rectangle Area: 24\n"
          ]
        }
      ]
    },
    {
      "cell_type": "code",
      "source": [
        "## QUES 3)  Implement a multi-level inheritance scenario where a class Vehicle has an attribute type. Derive a class Car\n",
        "## and further derive a class ElectricCar that adds a battery attribute.\n",
        "class Vehicle:\n",
        "    def __init__(self, vehicle_type):\n",
        "        self.vehicle_type = vehicle_type\n",
        "\n",
        "class Car(Vehicle):\n",
        "    def __init__(self, vehicle_type, brand):\n",
        "        super().__init__(vehicle_type)\n",
        "        self.brand = brand\n",
        "\n",
        "class ElectricCar(Car):\n",
        "    def __init__(self, vehicle_type, brand, battery_capacity):\n",
        "        super().__init__(vehicle_type, brand)\n",
        "        self.battery_capacity = battery_capacity\n",
        "\n",
        "# Example usage\n",
        "vehicle = Vehicle(\"General Vehicle\")\n",
        "print(\"Vehicle Type:\", vehicle.vehicle_type)\n",
        "\n",
        "car = Car(\"Car\", \"Toyota\")\n",
        "print(\"Car Type:\", car.vehicle_type, \"Brand:\", car.brand)\n",
        "\n",
        "electric_car = ElectricCar(\"Electric Car\", \"Tesla\", \"100 kWh\")\n",
        "print(\"Electric Car Type:\", electric_car.vehicle_type, \"Brand:\", electric_car.brand, \"Battery Capacity:\", electric_car.battery_capacity)\n"
      ],
      "metadata": {
        "colab": {
          "base_uri": "https://localhost:8080/"
        },
        "id": "TQFFsRsiHaSM",
        "outputId": "dd659243-b92b-4139-8516-4679071e7944"
      },
      "execution_count": 4,
      "outputs": [
        {
          "output_type": "stream",
          "name": "stdout",
          "text": [
            "Vehicle Type: General Vehicle\n",
            "Car Type: Car Brand: Toyota\n",
            "Electric Car Type: Electric Car Brand: Tesla Battery Capacity: 100 kWh\n"
          ]
        }
      ]
    },
    {
      "cell_type": "code",
      "source": [
        "## QUES 4)  Demonstrate polymorphism by creating a base class Bird with a method fly(). Create two derived classes\n",
        "## Sparrow and Penguin that override the fly() method.\n",
        "class Bird:\n",
        "    def fly(self):\n",
        "        print(\"This bird can fly.\")\n",
        "\n",
        "class Sparrow(Bird):\n",
        "    def fly(self):\n",
        "        print(\"Sparrow flies high in the sky.\")\n",
        "\n",
        "class Penguin(Bird):\n",
        "    def fly(self):\n",
        "        print(\"Penguins cannot fly but can swim excellently.\")\n",
        "\n",
        "# Example usage\n",
        "def demonstrate_flight(bird):\n",
        "    bird.fly()\n",
        "\n",
        "bird = Bird()\n",
        "demonstrate_flight(bird)\n",
        "\n",
        "sparrow = Sparrow()\n",
        "demonstrate_flight(sparrow)\n",
        "\n",
        "penguin = Penguin()\n",
        "demonstrate_flight(penguin)\n"
      ],
      "metadata": {
        "colab": {
          "base_uri": "https://localhost:8080/"
        },
        "id": "kHDoF3paH9Ev",
        "outputId": "ee61defb-2e50-479b-fa54-1f9ac6d6f4a6"
      },
      "execution_count": 5,
      "outputs": [
        {
          "output_type": "stream",
          "name": "stdout",
          "text": [
            "This bird can fly.\n",
            "Sparrow flies high in the sky.\n",
            "Penguins cannot fly but can swim excellently.\n"
          ]
        }
      ]
    },
    {
      "cell_type": "code",
      "source": [
        "## QUES 5)  Write a program to demonstrate encapsulation by creating a class BankAccount with private attributes\n",
        "## balance and methods to deposit, withdraw, and check balance.\n",
        "class BankAccount:\n",
        "    def __init__(self, initial_balance=0):\n",
        "        self.__balance = initial_balance\n",
        "\n",
        "    def deposit(self, amount):\n",
        "        if amount > 0:\n",
        "            self.__balance += amount\n",
        "            print(f\"Deposited: ${amount}\")\n",
        "        else:\n",
        "            print(\"Deposit amount must be positive.\")\n",
        "\n",
        "    def withdraw(self, amount):\n",
        "        if 0 < amount <= self.__balance:\n",
        "            self.__balance -= amount\n",
        "            print(f\"Withdrawn: ${amount}\")\n",
        "        else:\n",
        "            print(\"Invalid withdrawal amount or insufficient balance.\")\n",
        "\n",
        "    def check_balance(self):\n",
        "        print(f\"Current balance: ${self.__balance}\")\n",
        "\n",
        "# Example usage\n",
        "account = BankAccount(100)\n",
        "account.check_balance()\n",
        "account.deposit(50)\n",
        "account.withdraw(30)\n",
        "account.check_balance()\n"
      ],
      "metadata": {
        "colab": {
          "base_uri": "https://localhost:8080/"
        },
        "id": "CO9K3m62JXe_",
        "outputId": "12a7dee8-560f-47ed-e9c1-429950b78a7e"
      },
      "execution_count": 6,
      "outputs": [
        {
          "output_type": "stream",
          "name": "stdout",
          "text": [
            "Current balance: $100\n",
            "Deposited: $50\n",
            "Withdrawn: $30\n",
            "Current balance: $120\n"
          ]
        }
      ]
    },
    {
      "cell_type": "code",
      "source": [
        "## QUES 6) Demonstrate runtime polymorphism using a method play() in a base class Instrument. Derive classes Guitar\n",
        "## and Piano that implement their own version of play().\n",
        "class Instrument:\n",
        "    def play(self):\n",
        "        print(\"Playing an instrument.\")\n",
        "\n",
        "class Guitar(Instrument):\n",
        "    def play(self):\n",
        "        print(\"Strumming the guitar.\")\n",
        "\n",
        "class Piano(Instrument):\n",
        "    def play(self):\n",
        "        print(\"Playing the piano keys.\")\n",
        "\n",
        "# Example usage\n",
        "def play_instrument(instrument):\n",
        "    instrument.play()\n",
        "\n",
        "instrument = Instrument()\n",
        "play_instrument(instrument)\n",
        "\n",
        "guitar = Guitar()\n",
        "play_instrument(guitar)\n",
        "\n",
        "piano = Piano()\n",
        "play_instrument(piano)\n"
      ],
      "metadata": {
        "colab": {
          "base_uri": "https://localhost:8080/"
        },
        "id": "TM3MlayjJ8zO",
        "outputId": "86ebba30-0f7f-4215-de75-62826b39c3f2"
      },
      "execution_count": 8,
      "outputs": [
        {
          "output_type": "stream",
          "name": "stdout",
          "text": [
            "Playing an instrument.\n",
            "Strumming the guitar.\n",
            "Playing the piano keys.\n"
          ]
        }
      ]
    },
    {
      "cell_type": "code",
      "source": [
        "## QUES 7)  Create a class MathOperations with a class method add_numbers() to add two numbers and a static\n",
        "## method subtract_numbers() to subtract two numbers.\n",
        "class MathOperations:\n",
        "    @classmethod\n",
        "    def add_numbers(cls, a, b):\n",
        "        return a + b\n",
        "\n",
        "    @staticmethod\n",
        "    def subtract_numbers(a, b):\n",
        "        return a - b\n",
        "\n",
        "# Example usage\n",
        "sum_result = MathOperations.add_numbers(10, 5)\n",
        "print(\"Sum:\", sum_result)\n",
        "\n",
        "difference_result = MathOperations.subtract_numbers(10, 5)\n",
        "print(\"Difference:\", difference_result)\n"
      ],
      "metadata": {
        "colab": {
          "base_uri": "https://localhost:8080/"
        },
        "id": "nk3xgq9MKb7r",
        "outputId": "eb7001e6-02bb-4005-b458-b6b01999562c"
      },
      "execution_count": 9,
      "outputs": [
        {
          "output_type": "stream",
          "name": "stdout",
          "text": [
            "Sum: 15\n",
            "Difference: 5\n"
          ]
        }
      ]
    },
    {
      "cell_type": "code",
      "source": [
        "## QUES 8)  Implement a class Person with a class method to count the total number of persons created.\n",
        "class Person:\n",
        "    count = 0\n",
        "\n",
        "    def __init__(self, name):\n",
        "        self.name = name\n",
        "        Person.count += 1\n",
        "\n",
        "    @classmethod\n",
        "    def total_persons(cls):\n",
        "        return cls.count\n",
        "\n",
        "# Example usage\n",
        "person1 = Person(\"Alice\")\n",
        "person2 = Person(\"Bob\")\n",
        "\n",
        "print(\"Total persons created:\", Person.total_persons())\n"
      ],
      "metadata": {
        "colab": {
          "base_uri": "https://localhost:8080/"
        },
        "id": "1ox5q945LJYi",
        "outputId": "ee54f822-35a3-4b58-fd8a-102c52932f19"
      },
      "execution_count": 11,
      "outputs": [
        {
          "output_type": "stream",
          "name": "stdout",
          "text": [
            "Total persons created: 2\n"
          ]
        }
      ]
    },
    {
      "cell_type": "code",
      "source": [
        "## QUES 9) Write a class Fraction with attributes numerator and denominator. Override the str method to display the\n",
        "## fraction as \"numerator/denominator\".\n",
        "class Fraction:\n",
        "    def __init__(self, numerator, denominator):\n",
        "        self.numerator = numerator\n",
        "        self.denominator = denominator\n",
        "\n",
        "    def __str__(self):\n",
        "        return f\"{self.numerator}/{self.denominator}\"\n",
        "\n",
        "# Example usage\n",
        "fraction1 = Fraction(3, 4)\n",
        "print(fraction1)\n",
        "\n",
        "fraction2 = Fraction(5, 8)\n",
        "print(fraction2)"
      ],
      "metadata": {
        "colab": {
          "base_uri": "https://localhost:8080/"
        },
        "id": "gbZEgLViLh29",
        "outputId": "a7a81ccc-0931-4965-8e53-74d55342abb4"
      },
      "execution_count": 12,
      "outputs": [
        {
          "output_type": "stream",
          "name": "stdout",
          "text": [
            "3/4\n",
            "5/8\n"
          ]
        }
      ]
    },
    {
      "cell_type": "code",
      "source": [
        "## QUES 10) Demonstrate operator overloading by creating a class Vector and overriding the add method to add two\n",
        "## vectors\n",
        "class Vector:\n",
        "    def __init__(self, x, y):\n",
        "        self.x = x\n",
        "        self.y = y\n",
        "\n",
        "    def __add__(self, other):\n",
        "        return Vector(self.x + other.x, self.y + other.y)\n",
        "\n",
        "    def __str__(self):\n",
        "        return f\"({self.x}, {self.y})\"\n",
        "\n",
        "# Example usage\n",
        "vector1 = Vector(2, 3)\n",
        "vector2 = Vector(4, 5)\n",
        "result = vector1 + vector2\n",
        "print(result)"
      ],
      "metadata": {
        "colab": {
          "base_uri": "https://localhost:8080/"
        },
        "id": "VpzYANOXMNmB",
        "outputId": "a0f7a3dd-9983-4e86-a96d-72224a1b1cc8"
      },
      "execution_count": 13,
      "outputs": [
        {
          "output_type": "stream",
          "name": "stdout",
          "text": [
            "(6, 8)\n"
          ]
        }
      ]
    },
    {
      "cell_type": "code",
      "source": [
        "## QUES 11)  Create a class Person with attributes name and age. Add a method greet() that prints \"Hello, my name is\n",
        "## {name} and I am {age} years old.\"\n",
        "class Person:\n",
        "    def __init__(self, name, age):\n",
        "        self.name = name\n",
        "        self.age = age\n",
        "\n",
        "    def greet(self):\n",
        "        print(f\"Hello, my name is {self.name} and I am {self.age} years old.\")\n",
        "\n",
        "# Example usage\n",
        "person1 = Person(\"Alice\", 30)\n",
        "person1.greet()\n",
        "\n",
        "person2 = Person(\"Bob\", 25)\n",
        "person2.greet()"
      ],
      "metadata": {
        "colab": {
          "base_uri": "https://localhost:8080/"
        },
        "id": "INhBI3ycMjCB",
        "outputId": "d1c0acfb-d1cb-40af-a029-183e2d358030"
      },
      "execution_count": 14,
      "outputs": [
        {
          "output_type": "stream",
          "name": "stdout",
          "text": [
            "Hello, my name is Alice and I am 30 years old.\n",
            "Hello, my name is Bob and I am 25 years old.\n"
          ]
        }
      ]
    },
    {
      "cell_type": "code",
      "source": [
        "## QUES 12)Implement a class Student with attributes name and grades. Create a method average_grade() to compute\n",
        "## the average of the grades.\n",
        "class Student:\n",
        "    def __init__(self, name, grades):\n",
        "        self.name = name\n",
        "        self.grades = grades\n",
        "\n",
        "    def average_grade(self):\n",
        "        return sum(self.grades) / len(self.grades) if self.grades else 0\n",
        "\n",
        "# Example usage\n",
        "student1 = Student(\"Alice\", [85, 90, 78, 92])\n",
        "print(f\"{student1.name}'s average grade: {student1.average_grade()}\")\n",
        "\n",
        "student2 = Student(\"Bob\", [75, 80, 88, 95])\n",
        "print(f\"{student2.name}'s average grade: {student2.average_grade()}\")\n"
      ],
      "metadata": {
        "colab": {
          "base_uri": "https://localhost:8080/"
        },
        "id": "g5WuYJhnM9c8",
        "outputId": "60de612c-4e3c-4fb1-ff8b-16599a4d10a7"
      },
      "execution_count": 15,
      "outputs": [
        {
          "output_type": "stream",
          "name": "stdout",
          "text": [
            "Alice's average grade: 86.25\n",
            "Bob's average grade: 84.5\n"
          ]
        }
      ]
    },
    {
      "cell_type": "code",
      "source": [
        "## QUES 13) Create a class Rectangle with methods set_dimensions() to set the dimensions and area() to calculate the\n",
        "## area.\n",
        "class Rectangle:\n",
        "    def __init__(self):\n",
        "        self.length = 0\n",
        "        self.width = 0\n",
        "\n",
        "    def set_dimensions(self, length, width):\n",
        "        self.length = length\n",
        "        self.width = width\n",
        "\n",
        "    def area(self):\n",
        "        return self.length * self.width\n",
        "\n",
        "# Example usage\n",
        "rectangle = Rectangle()\n",
        "rectangle.set_dimensions(5, 10)\n",
        "print(f\"Rectangle area: {rectangle.area()}\")"
      ],
      "metadata": {
        "colab": {
          "base_uri": "https://localhost:8080/"
        },
        "id": "UyKg7FNDNT4E",
        "outputId": "68d862f9-1298-478f-ee59-a040edcffbe9"
      },
      "execution_count": 16,
      "outputs": [
        {
          "output_type": "stream",
          "name": "stdout",
          "text": [
            "Rectangle area: 50\n"
          ]
        }
      ]
    },
    {
      "cell_type": "code",
      "source": [
        "## QUES 14)  Create a class Employee with a method calculate_salary() that computes the salary based on hours worked\n",
        "## and hourly rate. Create a derived class Manager that adds a bonus to the salary.\n",
        "class Employee:\n",
        "    def __init__(self, name, hours_worked, hourly_rate):\n",
        "        self.name = name\n",
        "        self.hours_worked = hours_worked\n",
        "        self.hourly_rate = hourly_rate\n",
        "\n",
        "    def calculate_salary(self):\n",
        "        return self.hours_worked * self.hourly_rate\n",
        "\n",
        "class Manager(Employee):\n",
        "    def __init__(self, name, hours_worked, hourly_rate, bonus):\n",
        "        super().__init__(name, hours_worked, hourly_rate)\n",
        "        self.bonus = bonus\n",
        "\n",
        "    def calculate_salary(self):\n",
        "        return super().calculate_salary() + self.bonus\n",
        "\n",
        "# Example usage\n",
        "employee = Employee(\"Alice\", 40, 20)\n",
        "print(f\"{employee.name}'s Salary: ${employee.calculate_salary()}\")\n",
        "\n",
        "manager = Manager(\"Bob\", 40, 30, 500)\n",
        "print(f\"{manager.name}'s Salary: ${manager.calculate_salary()}\")\n"
      ],
      "metadata": {
        "colab": {
          "base_uri": "https://localhost:8080/"
        },
        "id": "lGKWjCBCNhGb",
        "outputId": "b1524abd-86b5-4e9d-c97a-14bd870ee4ee"
      },
      "execution_count": 17,
      "outputs": [
        {
          "output_type": "stream",
          "name": "stdout",
          "text": [
            "Alice's Salary: $800\n",
            "Bob's Salary: $1700\n"
          ]
        }
      ]
    },
    {
      "cell_type": "code",
      "source": [
        "## QUES 15)  Create a class Product with attributes name, price, and quantity. Implement a method total_price() that\n",
        "## calculates the total price of the product.\n",
        "class Product:\n",
        "    def __init__(self, name, price, quantity):\n",
        "        self.name = name\n",
        "        self.price = price\n",
        "        self.quantity = quantity\n",
        "\n",
        "    def total_price(self):\n",
        "        return self.price * self.quantity\n",
        "\n",
        "# Example usage\n",
        "product1 = Product(\"Laptop\", 1000, 2)\n",
        "print(f\"Total price for {product1.name}: ${product1.total_price()}\")\n",
        "\n",
        "product2 = Product(\"Phone\", 500, 3)\n",
        "print(f\"Total price for {product2.name}: ${product2.total_price()}\")\n"
      ],
      "metadata": {
        "colab": {
          "base_uri": "https://localhost:8080/"
        },
        "id": "x6w4rWerN7L9",
        "outputId": "36a6bb55-d377-4bb0-a4c7-150b5746cdb9"
      },
      "execution_count": 18,
      "outputs": [
        {
          "output_type": "stream",
          "name": "stdout",
          "text": [
            "Total price for Laptop: $2000\n",
            "Total price for Phone: $1500\n"
          ]
        }
      ]
    },
    {
      "cell_type": "code",
      "source": [
        "## QUES 16) Create a class Animal with an abstract method sound(). Create two derived classes Cow and Sheep that\n",
        "## implement the sound() method.\n",
        "from abc import ABC, abstractmethod\n",
        "\n",
        "class Animal(ABC):\n",
        "    @abstractmethod\n",
        "    def sound(self):\n",
        "        pass\n",
        "\n",
        "class Cow(Animal):\n",
        "    def sound(self):\n",
        "        return \"Moo\"\n",
        "\n",
        "class Sheep(Animal):\n",
        "    def sound(self):\n",
        "        return \"Baa\"\n",
        "\n",
        "# Example usage\n",
        "cow = Cow()\n",
        "print(f\"Cow sound: {cow.sound()}\")\n",
        "\n",
        "sheep = Sheep()\n",
        "print(f\"Sheep sound: {sheep.sound()}\")\n"
      ],
      "metadata": {
        "colab": {
          "base_uri": "https://localhost:8080/"
        },
        "id": "CO6bHobYOWF1",
        "outputId": "3833430f-ff5f-4b2c-d013-6ea67ed24c63"
      },
      "execution_count": 19,
      "outputs": [
        {
          "output_type": "stream",
          "name": "stdout",
          "text": [
            "Cow sound: Moo\n",
            "Sheep sound: Baa\n"
          ]
        }
      ]
    },
    {
      "cell_type": "code",
      "source": [
        "## QUES 17)  Create a class Book with attributes title, author, and year_published. Add a method get_book_info() that\n",
        "## returns a formatted string with the book's details.\n",
        "class Book:\n",
        "    def __init__(self, title, author, year_published):\n",
        "        self.title = title\n",
        "        self.author = author\n",
        "        self.year_published = year_published\n",
        "\n",
        "    def get_book_info(self):\n",
        "        return f\"Title: {self.title}, Author: {self.author}, Year Published: {self.year_published}\"\n",
        "\n",
        "# Example usage\n",
        "book1 = Book(\"1984\", \"George Orwell\", 1949)\n",
        "print(book1.get_book_info())\n",
        "\n",
        "book2 = Book(\"To Kill a Mockingbird\", \"Harper Lee\", 1960)\n",
        "print(book2.get_book_info())\n"
      ],
      "metadata": {
        "colab": {
          "base_uri": "https://localhost:8080/"
        },
        "id": "rFd2aOmbYJ9c",
        "outputId": "085ab2af-488c-4001-f3d1-d8e92ded9c06"
      },
      "execution_count": 20,
      "outputs": [
        {
          "output_type": "stream",
          "name": "stdout",
          "text": [
            "Title: 1984, Author: George Orwell, Year Published: 1949\n",
            "Title: To Kill a Mockingbird, Author: Harper Lee, Year Published: 1960\n"
          ]
        }
      ]
    },
    {
      "cell_type": "code",
      "source": [
        "## QUES 18) Create a class House with attributes address and price. Create a derived class Mansion that adds an\n",
        "## attribute number_of_rooms.\n",
        "class House:\n",
        "    def __init__(self, address, price):\n",
        "        self.address = address\n",
        "        self.price = price\n",
        "\n",
        "    def get_house_info(self):\n",
        "        return f\"Address: {self.address}, Price: ${self.price}\"\n",
        "\n",
        "class Mansion(House):\n",
        "    def __init__(self, address, price, number_of_rooms):\n",
        "        super().__init__(address, price)\n",
        "        self.number_of_rooms = number_of_rooms\n",
        "\n",
        "    def get_house_info(self):\n",
        "        return f\"Address: {self.address}, Price: ${self.price}, Rooms: {self.number_of_rooms}\"\n",
        "\n",
        "# Example usage\n",
        "house1 = House(\"123 Main St\", 250000)\n",
        "print(house1.get_house_info())\n",
        "\n",
        "mansion1 = Mansion(\"456 Luxury Ave\", 5000000, 10)\n",
        "print(mansion1.get_house_info())"
      ],
      "metadata": {
        "colab": {
          "base_uri": "https://localhost:8080/"
        },
        "id": "xTRntIg6Yihk",
        "outputId": "4bfab52d-b737-49a2-dd99-774611d7b347"
      },
      "execution_count": 21,
      "outputs": [
        {
          "output_type": "stream",
          "name": "stdout",
          "text": [
            "Address: 123 Main St, Price: $250000\n",
            "Address: 456 Luxury Ave, Price: $5000000, Rooms: 10\n"
          ]
        }
      ]
    }
  ]
}