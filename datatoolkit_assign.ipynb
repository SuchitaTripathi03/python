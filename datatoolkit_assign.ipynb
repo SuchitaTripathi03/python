{
  "nbformat": 4,
  "nbformat_minor": 0,
  "metadata": {
    "colab": {
      "provenance": [],
      "authorship_tag": "ABX9TyOMvCPThVBc/rUz4Jfinkol",
      "include_colab_link": true
    },
    "kernelspec": {
      "name": "python3",
      "display_name": "Python 3"
    },
    "language_info": {
      "name": "python"
    }
  },
  "cells": [
    {
      "cell_type": "markdown",
      "metadata": {
        "id": "view-in-github",
        "colab_type": "text"
      },
      "source": [
        "<a href=\"https://colab.research.google.com/github/SuchitaTripathi03/python/blob/main/datatoolkit_assign.ipynb\" target=\"_parent\"><img src=\"https://colab.research.google.com/assets/colab-badge.svg\" alt=\"Open In Colab\"/></a>"
      ]
    },
    {
      "cell_type": "code",
      "source": [
        "##THEORITICAL QUESTIONS"
      ],
      "metadata": {
        "id": "pmuy5zc5AKzu"
      },
      "execution_count": null,
      "outputs": []
    },
    {
      "cell_type": "code",
      "execution_count": null,
      "metadata": {
        "id": "WAzpEGKj_3Nn"
      },
      "outputs": [],
      "source": [
        "##QUES1) What is NumPy, and why is it widely used in Python?"
      ]
    },
    {
      "cell_type": "code",
      "source": [],
      "metadata": {
        "id": "L0mDSJv5_6dp"
      },
      "execution_count": null,
      "outputs": []
    },
    {
      "cell_type": "markdown",
      "source": [
        "NumPy (short for Numerical Python) is a foundational library in Python designed for efficient numerical and scientific computing. It’s like the Swiss Army knife for data manipulation and mathematical operations in Python.\n",
        "- A Python library that provides support for multi-dimensional arrays (called ndarray)\n",
        "- Includes a vast collection of mathematical functions for operations on arrays\n",
        "- Built for speed and efficiency, especially when working with large dataset.\n",
        "it is widely used because:\n",
        "NumPy arrays are faster and use less memory than Python lists.\n",
        "can perform element-wise operations without writing loops.\n",
        "Allows operations between arrays of different shapes—super handy for modeling.\n",
        "Includes tools for linear algebra, statistics, Fourier transforms, etc.\n",
        "Works seamlessly with other libraries like Pandas, SciPy, scikit-learn, etc.\n",
        "\n",
        "\n",
        "\n"
      ],
      "metadata": {
        "id": "RdBGbxNk_7Dz"
      }
    },
    {
      "cell_type": "code",
      "source": [
        "##QUES 2) How does broadcasting work in NumPy?"
      ],
      "metadata": {
        "id": "XYUTN7eZ_7eU"
      },
      "execution_count": null,
      "outputs": []
    },
    {
      "cell_type": "markdown",
      "source": [
        "Broadcasting automatically expands the dimensions of smaller arrays so they can participate in operations with larger arrays. This is done without copying data, making it memory-efficient and fast.\n",
        "\n",
        " Broadcasting Rules\n",
        "NumPy compares array shapes from right to left, and applies these rules:\n",
        "- If dimensions are equal, they’re compatible.\n",
        "- If one dimension is 1, it can be stretched to match the other.\n",
        "- If dimensions differ and neither is 1, broadcasting fails.\n",
        "\n",
        "\n"
      ],
      "metadata": {
        "id": "JVA1oGv9_8Ck"
      }
    },
    {
      "cell_type": "code",
      "source": [
        "##QUES 3)A What is a Pandas DataFrame?"
      ],
      "metadata": {
        "id": "tAW3wJ-V_8bN"
      },
      "execution_count": null,
      "outputs": []
    },
    {
      "cell_type": "markdown",
      "source": [
        "A Pandas DataFrame is a powerful and flexible data structure in Python that resembles a table, much like an Excel spreadsheet or a SQL database. It organizes data into rows and columns, where each column can hold different types of data—such as integers, strings, or dates—and each row represents an individual record or observation. What makes DataFrames especially useful is their ability to handle large datasets with ease, offering intuitive methods for filtering, sorting, grouping, and transforming data. You can create a DataFrame from various sources, including dictionaries, lists, CSV files, Excel sheets, or even SQL queries. With built-in functions for handling missing values, merging datasets, and applying statistical operations, Pandas DataFrames are essential tools for data analysis, especially in fields like public health, finance, and machine learning. Their seamless integration with other Python libraries like NumPy and Matplotlib makes them a cornerstone of the data science ecosystem."
      ],
      "metadata": {
        "id": "SgjvsQW4_8ss"
      }
    },
    {
      "cell_type": "code",
      "source": [
        "##QUES4) A Explain the use of the groupby() method in Pandas."
      ],
      "metadata": {
        "id": "zoHUHecW_9HO"
      },
      "execution_count": null,
      "outputs": []
    },
    {
      "cell_type": "markdown",
      "source": [
        "The groupby() method in Pandas is a powerful tool used to split a DataFrame into groups based on the values in one or more columns. It follows a \"split-apply-combine\" strategy: first, the data is split into groups according to some criteria (like a column value), then a function is applied to each group independently (such as calculating a sum or average), and finally, the results are combined into a new DataFrame or Series. This method is especially useful for summarizing and analyzing data across categories. For example, if you have a dataset of sales transactions, you can use groupby() to group the data by product category and calculate total sales for each category. It supports various operations like aggregation (e.g., sum(), mean()), transformation, and filtering, making it a versatile tool for data analysis.\n"
      ],
      "metadata": {
        "id": "f3F0OddP_9iU"
      }
    },
    {
      "cell_type": "code",
      "source": [
        "##QUES 5) A Why is Seaborn preferred for statistical visualizations?"
      ],
      "metadata": {
        "id": "Nw4Mx5zR_-Vq"
      },
      "execution_count": null,
      "outputs": []
    },
    {
      "cell_type": "markdown",
      "source": [
        "Seaborn is preferred for statistical visualizations in Python because it offers a high-level, intuitive interface for creating attractive and informative plots with minimal code. Built on top of Matplotlib, Seaborn simplifies complex visualizations like box plots, violin plots, and heatmaps, which are essential for exploring distributions, relationships, and group comparisons in data. One of its standout features is seamless integration with Pandas DataFrames, allowing users to pass entire datasets directly into plotting functions without manual data extraction. It also comes with built-in themes and color palettes that produce aesthetically pleasing visuals by default, making it ideal for professional presentations and exploratory data analysis. Additionally, Seaborn includes specialized functions for statistical plotting, such as regression plots and distribution plots, which help uncover patterns and trends in data with ease. This combination of simplicity, beauty, and statistical depth makes Seaborn a favorite among data scientists and analysts.\n"
      ],
      "metadata": {
        "id": "x9I7GwXf_-qL"
      }
    },
    {
      "cell_type": "code",
      "source": [
        "##QUES6) What are the differences between NumPy arrays and Python lists?"
      ],
      "metadata": {
        "id": "Gusp7AbD__DN"
      },
      "execution_count": null,
      "outputs": []
    },
    {
      "cell_type": "markdown",
      "source": [
        "NumPy arrays and Python lists may look similar at first glance, but they serve very different purposes and have distinct characteristics that make NumPy arrays far more suitable for numerical and scientific computing.\n",
        "The most fundamental difference lies in data type and memory efficiency. NumPy arrays are homogeneous, meaning all elements must be of the same data type, which allows them to be stored in contiguous blocks of memory. This leads to faster access and lower memory usage. In contrast, Python lists are heterogeneous—they can hold elements of different types—and each item is stored as a separate Python object, which adds overhead and slows down performance for large datasets.\n",
        "Another key distinction is performance. NumPy arrays support vectorized operations, allowing you to perform mathematical computations on entire arrays without writing explicit loops. This is not possible with Python lists, which require iteration for element-wise operations. For example, adding two NumPy arrays is a single line of code and runs much faster than looping through two Python lists to add corresponding elements.\n",
        "Functionality also differs significantly. NumPy arrays come with a rich set of built-in functions for linear algebra, statistical analysis, and array manipulation. Python lists, while flexible and easy to use for general-purpose programming, lack these specialized capabilities.\n"
      ],
      "metadata": {
        "id": "yKTyZJWo__a6"
      }
    },
    {
      "cell_type": "code",
      "source": [
        "##QUES7)  What is a heatmap, and when should it be used?"
      ],
      "metadata": {
        "id": "rKtKhJXoAAP0"
      },
      "execution_count": null,
      "outputs": []
    },
    {
      "cell_type": "markdown",
      "source": [
        "A heatmap is a type of data visualization that uses color gradients to represent the magnitude of values in a matrix or grid format. Each cell in the grid corresponds to a data point, and its color intensity reflects the value it holds—typically with warmer colors like red or orange indicating higher values, and cooler colors like blue or green indicating lower ones. This visual approach makes it easy to spot patterns, trends, and anomalies at a glance, especially in large datasets.\n",
        "\n",
        "Heatmaps are particularly useful when you want to understand relationships between two variables, such as time and activity level, or categories and performance metrics. They're commonly used in fields like public health to show disease incidence across regions, in finance to highlight market movements, and in web analytics to track user behavior on websites. Because they condense complex numerical data into an intuitive visual format, heatmaps are ideal for identifying areas of interest, comparing groups, and guiding decision-making based on data density or intensity.\n"
      ],
      "metadata": {
        "id": "d6ExHchqAAv3"
      }
    },
    {
      "cell_type": "code",
      "source": [
        "##QUES8) What does the term “vectorized operation” mean in NumPy?"
      ],
      "metadata": {
        "id": "zKSCyusSAB15"
      },
      "execution_count": null,
      "outputs": []
    },
    {
      "cell_type": "markdown",
      "source": [
        "In NumPy, a **vectorized operation** refers to performing mathematical or logical operations directly on entire arrays, without the need for explicit loops. This approach leverages NumPy’s underlying implementation in C, allowing computations to be executed much faster and more efficiently than traditional Python loops. For example, if you want to add a constant to every element in an array, you can simply write `array + 10`, and NumPy will apply the operation to each element automatically. This eliminates the need for writing `for` loops and makes the code cleaner, more readable, and significantly faster—especially when working with large datasets.\n",
        "\n",
        "Vectorized operations also support element-wise arithmetic between arrays, comparisons, and even matrix operations like dot products. Because these operations are optimized at a low level, they’re ideal for tasks in data analysis, machine learning, and scientific computing where performance matters. In short, vectorization is one of the key reasons NumPy is so powerful—it transforms how you work with data by making complex operations both simple and lightning-fast.\n"
      ],
      "metadata": {
        "id": "W1yE2TP9ACU6"
      }
    },
    {
      "cell_type": "code",
      "source": [
        "##QUES 9)How does Matplotlib differ from Plotly?"
      ],
      "metadata": {
        "id": "U0MaSlT9ACs1"
      },
      "execution_count": null,
      "outputs": []
    },
    {
      "cell_type": "markdown",
      "source": [
        "Matplotlib and Plotly are both powerful Python libraries for data visualization, but they serve different purposes and offer distinct advantages depending on your needs.\n",
        "\n",
        "**Matplotlib** is the older and more established library, known for its flexibility and extensive customization options. It’s ideal for creating **static, publication-quality plots** such as line graphs, bar charts, and histograms. Because it gives you granular control over every element—from axes and labels to colors and fonts—it’s widely used in academic and scientific contexts. However, Matplotlib plots are generally **non-interactive** by default, meaning users can't zoom, hover, or click on elements unless additional tools like `mpld3` or `Plotly` are integrated.\n",
        "\n",
        "**Plotly**, on the other hand, is designed for **interactive and web-friendly visualizations**. It produces visually appealing charts that allow users to zoom, pan, hover over data points, and even trigger events through clicks. This makes Plotly especially useful for dashboards, presentations, and exploratory data analysis. It supports a wide range of chart types, including 3D plots, geographic maps, and heatmaps, and integrates easily with web frameworks like Dash.\n",
        "\n",
        "In short, if you're aiming for **static, highly customizable visuals**, Matplotlib is your go-to. But if you want **interactive, dynamic charts** that engage users and work well in web applications, Plotly is the better choice. Many data scientists use both—choosing the right tool based on the context of their project.\n"
      ],
      "metadata": {
        "id": "SnXg8ex6ADHQ"
      }
    },
    {
      "cell_type": "code",
      "source": [
        "##QUES10) What is the significance of hierarchical indexing in Pandas?"
      ],
      "metadata": {
        "id": "1gMcHp9ZAEMB"
      },
      "execution_count": null,
      "outputs": []
    },
    {
      "cell_type": "markdown",
      "source": [
        "Hierarchical indexing, also known as multi-level indexing, is a powerful feature in Pandas that allows you to work with higher-dimensional data in a two-dimensional DataFrame. Instead of relying on a single index, you can assign multiple levels of indexing to rows or columns, which enables more complex data organization and retrieval. This is especially useful when dealing with datasets that have nested categories—like sales data broken down by region, state, and product type—because it allows you to group and access data more intuitively.\n",
        "\n",
        "The significance of hierarchical indexing lies in its ability to simplify operations like slicing, aggregating, and reshaping data. For example, you can easily select all entries for a specific region and state using `.loc[]` with a tuple, or perform group-wise computations without flattening the structure. It also enhances readability by clearly displaying the relationships between different levels of data, making it easier to spot patterns and trends. In essence, hierarchical indexing transforms a flat DataFrame into a more expressive and flexible structure, ideal for advanced data analysis and modeling.\n"
      ],
      "metadata": {
        "id": "VbpZuo6YAEpG"
      }
    },
    {
      "cell_type": "code",
      "source": [
        "##QUES 11)  What is the role of Seaborn’s pairplot() function?"
      ],
      "metadata": {
        "id": "QeiNHD9JDvl2"
      },
      "execution_count": null,
      "outputs": []
    },
    {
      "cell_type": "markdown",
      "source": [
        "Seaborn’s `pairplot()` function plays a key role in exploratory data analysis by visualizing **pairwise relationships** between multiple variables in a dataset. It automatically creates a grid of plots where each numeric variable is plotted against every other variable, making it easy to detect patterns, correlations, and outliers. On the diagonal of the grid, it displays univariate distributions—typically histograms or kernel density plots—to show how each variable is distributed individually.\n",
        "\n",
        "One of the most powerful aspects of `pairplot()` is its ability to incorporate a **hue parameter**, which color-codes data points based on a categorical variable. This allows you to compare how different groups behave across multiple dimensions. For example, in a dataset of restaurant tips, you could use `hue='sex'` to see how tipping behavior differs between male and female customers across various features like bill size, tip amount, and party size.\n",
        "\n",
        "Overall, `pairplot()` is a high-level, intuitive tool that helps you quickly grasp the structure of your data and uncover relationships that might warrant deeper statistical analysis.\n"
      ],
      "metadata": {
        "id": "kFTl7edaGc-M"
      }
    },
    {
      "cell_type": "code",
      "source": [
        "##QUES12) What is the purpose of the describe() function in Pandas?"
      ],
      "metadata": {
        "id": "eA5hO2mZDvia"
      },
      "execution_count": null,
      "outputs": []
    },
    {
      "cell_type": "markdown",
      "source": [
        "The `describe()` function in Pandas is used to generate a quick and comprehensive summary of the statistical properties of a DataFrame or Series. Its primary purpose is to help you understand the distribution, central tendency, and spread of your data at a glance. When applied to numeric columns, it returns metrics such as count, mean, standard deviation, minimum, maximum, and percentiles (25%, 50%, and 75% by default). This is incredibly useful for identifying patterns, spotting outliers, and assessing data quality before diving into deeper analysis.\n",
        "\n",
        "Beyond numeric data, `describe()` can also handle categorical columns if you specify `include='object'` or `include='all'`. In that case, it provides insights like the number of unique values, the most frequent value (top), and its frequency (freq). This makes it a versatile tool for both quantitative and qualitative data exploration. Whether you're cleaning data, preparing it for modeling, or simply getting a feel for its structure, `describe()` is often one of the first steps in any data analysis workflow.\n"
      ],
      "metadata": {
        "id": "MNXgnlFSGeCQ"
      }
    },
    {
      "cell_type": "code",
      "source": [
        "##QUES13) Why is handling missing data important in Pandas?"
      ],
      "metadata": {
        "id": "ihLdQMp-Dvf_"
      },
      "execution_count": null,
      "outputs": []
    },
    {
      "cell_type": "markdown",
      "source": [
        "Handling missing data in Pandas is crucial because incomplete or missing values can significantly distort the results of any analysis, leading to misleading conclusions and poor decision-making. In real-world datasets—whether from surveys, sensors, or databases—missing values are common and often unavoidable. If not addressed properly, they can interfere with calculations, skew statistical summaries, and even cause errors in machine learning models that expect clean input.\n",
        "\n",
        "Pandas provides robust tools like `isnull()`, `dropna()`, and `fillna()` to detect, remove, or replace missing values efficiently. For example, you might choose to drop rows with missing data if they’re few and won’t impact the overall analysis, or fill them with the mean, median, or a placeholder value to preserve the dataset’s integrity. This preprocessing step ensures that your data is clean, consistent, and ready for accurate analysis or modeling. In short, handling missing data isn’t just a technical necessity—it’s a foundational part of responsible data science.\n"
      ],
      "metadata": {
        "id": "9OpnUvScGfWX"
      }
    },
    {
      "cell_type": "code",
      "source": [
        "##QUES14) What are the benefits of using Plotly for data visualization?"
      ],
      "metadata": {
        "id": "8Di_ys0RDvd2"
      },
      "execution_count": null,
      "outputs": []
    },
    {
      "cell_type": "markdown",
      "source": [
        "Plotly offers a range of benefits that make it a standout choice for data visualization, especially when interactivity and presentation quality are key. One of its most compelling advantages is its ability to create **interactive charts**—users can zoom, pan, hover over data points, and even click to reveal deeper insights, all without writing JavaScript code. This makes it ideal for building dashboards and web-based analytics tools.\n",
        "\n",
        "Another major benefit is its **ease of use**. With modules like `plotly.express`, you can generate complex visualizations with just a few lines of Python code. This high-level interface simplifies the process of creating line charts, scatter plots, bar graphs, and even geographic maps. Plotly also supports **advanced analytics**, making it suitable for big data applications, machine learning, and AI-driven insights.\n",
        "\n",
        "Plotly’s **customization capabilities** are extensive. You can tailor every aspect of a chart—from layout and annotations to colors and markers—while still maintaining a clean and professional look. It’s also highly **scalable**, used by individuals and major companies alike, including Shell, Apple, and Tesla.\n",
        "\n",
        "\n"
      ],
      "metadata": {
        "id": "9C5u7ciAGgI7"
      }
    },
    {
      "cell_type": "code",
      "source": [
        "##QUES15) How does NumPy handle multidimensional arrays?"
      ],
      "metadata": {
        "id": "9WkTlTnGDvbp"
      },
      "execution_count": null,
      "outputs": []
    },
    {
      "cell_type": "markdown",
      "source": [
        "NumPy handles multidimensional arrays through its powerful `ndarray` object, which supports arrays of any number of dimensions—commonly referred to as 2D (matrices), 3D (cubes), and even higher-dimensional structures. These arrays are stored in contiguous blocks of memory, allowing for fast access and efficient computation. You can create a multidimensional array using functions like `np.array()` or `np.arange()` combined with `reshape()`, which lets you specify the desired shape of the array. For example, `np.arange(12).reshape(3, 4)` creates a 3×4 matrix filled with sequential numbers.\n",
        "\n",
        "Once created, NumPy allows intuitive indexing and slicing across dimensions. You can access elements using comma-separated indices like `array[1, 2]` for a 2D array, or `array[0, 1, 2]` for a 3D array. It also supports broadcasting, vectorized operations, and advanced functions like `transpose()`, `swapaxes()`, and `reshape()` to manipulate the structure without copying data. These capabilities make NumPy ideal for tasks in scientific computing, image processing, and machine learning, where multidimensional data is the norm.\n",
        "\n",
        "\n"
      ],
      "metadata": {
        "id": "4kOWzgMBGgzi"
      }
    },
    {
      "cell_type": "code",
      "source": [
        "##QUES16)  What is the role of Bokeh in data visualization?"
      ],
      "metadata": {
        "id": "-AYWRVFJDvZY"
      },
      "execution_count": null,
      "outputs": []
    },
    {
      "cell_type": "markdown",
      "source": [
        "Bokeh plays a significant role in data visualization by enabling the creation of **interactive, web-ready graphics** directly from Python. Unlike traditional plotting libraries that produce static images, Bokeh renders visualizations using **HTML and JavaScript**, allowing users to zoom, pan, hover, and dynamically update plots in real time. This makes it especially valuable for building dashboards, data apps, and exploratory tools that respond to user input.\n",
        "\n",
        "One of Bokeh’s strengths is its **flexibility**—it supports both high-level interfaces for quick plotting and low-level customization for complex visual designs. It integrates smoothly with popular data science tools like Pandas and Jupyter notebooks, making it easy to visualize data during analysis. Developers can also embed Bokeh plots into web applications and enhance them with widgets like sliders, dropdowns, and buttons to create rich, interactive experiences.\n",
        "\n",
        "In short, Bokeh bridges the gap between data science and web development, offering a powerful way to turn raw data into engaging, interactive stories. If you're working on a project that needs both analytical depth and user engagement, Bokeh is a top contender.\n"
      ],
      "metadata": {
        "id": "k14fgKQDGheU"
      }
    },
    {
      "cell_type": "code",
      "source": [
        "##QUES 17) Explain the difference between apply() and map() in Pandas?"
      ],
      "metadata": {
        "id": "VlP8HeL1DvXK"
      },
      "execution_count": null,
      "outputs": []
    },
    {
      "cell_type": "markdown",
      "source": [
        "In Pandas, both `apply()` and `map()` are used to apply functions to data, but they differ in scope and flexibility.\n",
        "\n",
        "The `map()` function is specifically designed for **Pandas Series**—a one-dimensional array—and is typically used for **element-wise transformations**. It’s ideal when you want to apply a function, dictionary, or lambda expression to each individual value in a Series. For example, you might use `map()` to convert all names in a column to uppercase or to replace values using a mapping dictionary.\n",
        "\n",
        "On the other hand, `apply()` is more versatile and works with both **Series and DataFrames**. When used on a Series, it behaves similarly to `map()`, applying a function to each element. But when used on a DataFrame, `apply()` can operate across **rows or columns**, depending on the `axis` parameter. This makes it suitable for more complex operations, such as computing row-wise statistics or applying a custom function to each column.\n",
        "\n",
        "\n"
      ],
      "metadata": {
        "id": "CgX8eYkDGiOO"
      }
    },
    {
      "cell_type": "code",
      "source": [
        "##QUES 18)  What are some advanced features of NumPy?"
      ],
      "metadata": {
        "id": "nivHPZYHDvUj"
      },
      "execution_count": null,
      "outputs": []
    },
    {
      "cell_type": "markdown",
      "source": [
        "NumPy offers a rich set of advanced features that make it indispensable for scientific computing, data analysis, and machine learning. Beyond basic array creation and arithmetic, it provides tools that unlock high-performance, multidimensional data manipulation and mathematical modeling.\n",
        "\n",
        "Here are some of its most powerful capabilities:\n",
        "\n",
        "---\n",
        "\n",
        "### 🔧 Advanced Features of NumPy\n",
        "\n",
        "1. **Multidimensional Arrays (`ndarray`)**  \n",
        "   NumPy supports arrays of arbitrary dimensions, allowing you to work with 2D matrices, 3D tensors, and beyond. This is essential for handling complex datasets like images, time series, or simulation grids.\n",
        "\n",
        "2. **Broadcasting**  \n",
        "   This feature lets you perform operations on arrays of different shapes without manual alignment. It simplifies code and speeds up computation by automatically expanding smaller arrays to match larger ones.\n",
        "\n",
        "3. **Vectorized Operations**  \n",
        "   NumPy eliminates the need for explicit loops by applying operations directly to entire arrays. This leads to cleaner code and massive performance gains.\n",
        "\n",
        "4. **Advanced Indexing & Slicing**  \n",
        "   You can extract or modify data using boolean masks, fancy indexing, and multi-dimensional slicing. This is especially useful for filtering data or reshaping arrays efficiently.\n",
        "\n",
        "5. **Linear Algebra Functions**  \n",
        "   NumPy includes a suite of matrix operations like dot products, eigenvalues, matrix inversion, and decompositions (e.g., SVD, QR), making it ideal for numerical modeling and machine learning.\n",
        "\n",
        "6. **Random Number Generation (`numpy.random`)**  \n",
        "   It provides tools for generating random samples from various distributions—uniform, normal, binomial, etc.—which are crucial for simulations and probabilistic modeling.\n",
        "\n",
        "7. **Fourier Transforms & Signal Processing**  \n",
        "   With `numpy.fft`, you can perform fast Fourier transforms for frequency analysis, filtering, and other signal processing tasks.\n",
        "\n",
        "8. **File I/O and Memory Mapping**  \n",
        "   NumPy can read and write binary files, and memory-map large datasets to disk, enabling efficient handling of data that doesn’t fit in RAM.\n",
        "\n",
        "9. **Masked Arrays**  \n",
        "   These allow you to handle invalid or missing data gracefully by masking certain elements during computation.\n",
        "\n",
        "10. **Integration with C/C++ and Fortran**  \n",
        "   NumPy arrays can be passed to low-level languages for performance-critical tasks, making it a bridge between Python and compiled code.\n",
        "\n",
        "\n",
        "\n"
      ],
      "metadata": {
        "id": "lkpde0CpGjKl"
      }
    },
    {
      "cell_type": "code",
      "source": [
        "##QUES 19) How does Pandas simplify time series analysis?"
      ],
      "metadata": {
        "id": "672gMEDRDvSK"
      },
      "execution_count": null,
      "outputs": []
    },
    {
      "cell_type": "markdown",
      "source": [
        "Pandas simplifies time series analysis by offering a rich set of tools that make working with time-stamped data intuitive, efficient, and powerful. Here's how it streamlines the process:\n",
        "\n",
        "---\n",
        "\n",
        "### 🕒 Key Features That Make Time Series Easy in Pandas\n",
        "\n",
        "#### 1. **Datetime Conversion**\n",
        "- Pandas makes it easy to convert strings or numbers into `datetime` objects using `pd.to_datetime()`.\n",
        "- This ensures consistent formatting and unlocks time-aware operations.\n",
        "\n",
        "#### 2. **DatetimeIndex**\n",
        "- You can set a column of dates as the index using `set_index()`, turning your DataFrame into a time series structure.\n",
        "- This enables fast slicing, filtering, and alignment based on time.\n",
        "\n",
        "#### 3. **Resampling**\n",
        "- With `.resample()`, you can change the frequency of your time series—e.g., convert daily data to monthly averages or hourly data to daily sums.\n",
        "- Supports both **upsampling** (finer granularity) and **downsampling** (coarser granularity).\n",
        "\n",
        "#### 4. **Rolling Windows**\n",
        "- Use `.rolling()` to compute moving averages, rolling sums, or other statistics over a sliding time window.\n",
        "- Great for smoothing noisy data or detecting trends.\n",
        "\n",
        "#### 5. **Time-Based Slicing**\n",
        "- You can slice data using natural date strings like `'2023-01-01':'2023-03-01'`, which is both readable and efficient.\n",
        "- Works seamlessly with `DatetimeIndex`.\n",
        "\n",
        "#### 6. **Handling Irregular Time Intervals**\n",
        "- Pandas can manage gaps, duplicates, and irregular timestamps with built-in methods like `asfreq()` and `interpolate()`.\n",
        "\n",
        "#### 7. **Visualization Integration**\n",
        "- Time series indexed DataFrames work beautifully with libraries like Matplotlib and Seaborn for plotting trends, seasonality, and anomalies.\n",
        "\n",
        "---\n",
        "\n",
        "### 📊 Real-World Use Cases\n",
        "- **Finance**: Analyze stock prices, returns, and volatility over time.\n",
        "- **Public Health**: Track disease incidence or vaccination rates by date.\n",
        "- **IoT & Sensors**: Monitor temperature, pressure, or usage patterns across time intervals.\n",
        "\n"
      ],
      "metadata": {
        "id": "gE-RwY_FGjyy"
      }
    },
    {
      "cell_type": "code",
      "source": [
        "##QUES 20)What is the role of a pivot table in Pandas?"
      ],
      "metadata": {
        "id": "ST70Fmm3DvP6"
      },
      "execution_count": null,
      "outputs": []
    },
    {
      "cell_type": "markdown",
      "source": [
        "In Pandas, a pivot table serves as a powerful tool for summarizing and reorganizing data, especially when working with large datasets that contain multiple categorical variables. It allows you to group data by one or more keys and apply aggregation functions—such as mean, sum, or count—to generate a concise, matrix-style view of the information. This makes it easier to compare values across categories, identify trends, and extract meaningful insights. For example, you can use a pivot table to analyze sales figures by region and product type, or to track average temperatures across cities and dates. With options to fill missing values, add totals, and customize the layout, pivot tables provide a flexible and efficient way to transform raw data into structured summaries that are ideal for reporting, visualization, and further analysis."
      ],
      "metadata": {
        "id": "f2ujF2PsGkll"
      }
    },
    {
      "cell_type": "code",
      "source": [
        "##QUES 21) Why is NumPy’s array slicing faster than Python’s list slicing?"
      ],
      "metadata": {
        "id": "uhdCIhS6DvNh"
      },
      "execution_count": null,
      "outputs": []
    },
    {
      "cell_type": "markdown",
      "source": [
        "NumPy’s array slicing is faster than Python’s list slicing primarily because of how data is stored and processed under the hood. NumPy arrays are **homogeneous** and stored in **contiguous blocks of memory**, which allows for highly efficient access and manipulation. In contrast, Python lists are **heterogeneous**—each element is a separate Python object stored in **non-contiguous memory locations**, requiring additional overhead for type checking and pointer dereferencing during slicing operations.\n",
        "\n",
        "Moreover, NumPy leverages **low-level optimizations** written in C and Fortran, enabling it to perform slicing and other operations without the need for Python-level loops. This means that when you slice a NumPy array, you're essentially creating a **view** into the original data without copying it, whereas Python lists often involve copying elements into a new list. These architectural differences result in dramatic performance gains—NumPy can be **10 to 100 times faster** than Python lists for large-scale numerical tasks.\n",
        "\n",
        "If you're working with large datasets or doing heavy numerical computations, NumPy’s slicing not only speeds things up but also reduces memory usage, making it the go-to choice for scientific and data-intensive applications.\n"
      ],
      "metadata": {
        "id": "UWqJyJbGGlTW"
      }
    },
    {
      "cell_type": "code",
      "source": [
        "##QUES 22) What are some common use cases for Seaborn?"
      ],
      "metadata": {
        "id": "lFE4skTzDvLJ"
      },
      "execution_count": null,
      "outputs": []
    },
    {
      "cell_type": "markdown",
      "source": [
        "Seaborn is widely used in data science and analytics for creating elegant, statistically meaningful visualizations with minimal code. One of its most common use cases is exploring **distributions** of variables using plots like histograms, kernel density estimates (KDE), and box plots. These help analysts understand the shape, spread, and skew of data, which is crucial for modeling and hypothesis testing. Another frequent application is examining **relationships between variables**—scatter plots, line plots, and regression plots are often used to detect correlations or trends, especially in exploratory data analysis.\n",
        "\n",
        "Seaborn also excels at **categorical comparisons**, allowing users to visualize how numerical data varies across different groups using bar plots, violin plots, and swarm plots. For multivariate analysis, tools like `pairplot()` and `heatmap()` are invaluable—they reveal interactions between multiple variables or highlight patterns in correlation matrices. Additionally, Seaborn integrates seamlessly with Pandas, making it easy to plot directly from DataFrames and apply grouping via the `hue`, `col`, or `row` parameters for faceted visualizations. Whether you're analyzing survey results, financial metrics, or experimental data, Seaborn provides a high-level, visually appealing way to uncover insights and communicate findings effectively.\n"
      ],
      "metadata": {
        "id": "U-FPjnavGl5Y"
      }
    },
    {
      "cell_type": "markdown",
      "source": [
        "PRACTICAL QUESTIONS"
      ],
      "metadata": {
        "id": "g9i8skXkJpEq"
      }
    },
    {
      "cell_type": "code",
      "source": [
        "##QUES1)How do you create a 2D NumPy array and calculate the sum of each row?\n",
        "import numpy as np\n",
        "\n",
        "# Create a 2D NumPy array\n",
        "array_2d = np.array([[1, 2, 3],\n",
        "                     [4, 5, 6],\n",
        "                     [7, 8, 9]])\n",
        "\n",
        "# Calculate the sum of each row\n",
        "row_sums = array_2d.sum(axis=1)\n",
        "\n",
        "# Display the results\n",
        "print(\"2D Array:\")\n",
        "print(array_2d)\n",
        "print(\"\\nSum of each row:\")\n",
        "print(row_sums)"
      ],
      "metadata": {
        "colab": {
          "base_uri": "https://localhost:8080/"
        },
        "id": "LotbIiTKDvI4",
        "outputId": "5ac1fb12-1778-485f-bf2c-74b3e8117ba2"
      },
      "execution_count": 1,
      "outputs": [
        {
          "output_type": "stream",
          "name": "stdout",
          "text": [
            "2D Array:\n",
            "[[1 2 3]\n",
            " [4 5 6]\n",
            " [7 8 9]]\n",
            "\n",
            "Sum of each row:\n",
            "[ 6 15 24]\n"
          ]
        }
      ]
    },
    {
      "cell_type": "code",
      "source": [
        "##QUES 2)Write a Pandas script to find the mean of a specific column in a DataFrame.\n",
        "import pandas as pd\n",
        "\n",
        "# Sample DataFrame\n",
        "data = {\n",
        "    'Name': ['Alice', 'Bob', 'Charlie', 'David'],\n",
        "    'Score': [85, 90, 78, 92]\n",
        "}\n",
        "\n",
        "df = pd.DataFrame(data)\n",
        "\n",
        "# Calculate the mean of the 'Score' column\n",
        "mean_score = df['Score'].mean()\n",
        "\n",
        "# Display the result\n",
        "print(\"Mean of the 'Score' column:\", mean_score)"
      ],
      "metadata": {
        "colab": {
          "base_uri": "https://localhost:8080/"
        },
        "id": "3g_zvUt1DvGb",
        "outputId": "941636c3-56a1-48fa-be67-0eba102e4c38"
      },
      "execution_count": 2,
      "outputs": [
        {
          "output_type": "stream",
          "name": "stdout",
          "text": [
            "Mean of the 'Score' column: 86.25\n"
          ]
        }
      ]
    },
    {
      "cell_type": "code",
      "source": [
        "##QUES3)Create a scatter plot using Matplotlib\n",
        "import matplotlib.pyplot as plt\n",
        "import numpy as np\n",
        "\n",
        "# Sample data\n",
        "x = np.array([10, 20, 30, 40, 50])\n",
        "y = np.array([15, 25, 35, 45, 55])\n",
        "\n",
        "# Create scatter plot\n",
        "plt.scatter(x, y, color='blue', marker='o')\n",
        "\n",
        "# Add labels and title\n",
        "plt.xlabel('X-axis values')\n",
        "plt.ylabel('Y-axis values')\n",
        "plt.title('Basic Scatter Plot')\n",
        "\n",
        "# Show the plot\n",
        "plt.show()"
      ],
      "metadata": {
        "colab": {
          "base_uri": "https://localhost:8080/",
          "height": 472
        },
        "id": "jZCeYcHoDvEC",
        "outputId": "3260e15a-46ff-4a55-8d7f-2c54ea103800"
      },
      "execution_count": 3,
      "outputs": [
        {
          "output_type": "display_data",
          "data": {
            "text/plain": [
              "<Figure size 640x480 with 1 Axes>"
            ],
            "image/png": "[encoded data removed]"
          },
          "metadata": {}
        }
      ]
    },
    {
      "cell_type": "code",
      "source": [
        "##QUES4)A How do you calculate the correlation matrix using Seaborn and visualize it with a heatmap?\n",
        "import pandas as pd\n",
        "import seaborn as sns\n",
        "import matplotlib.pyplot as plt\n",
        "\n",
        "# Sample dataset\n",
        "data = {\n",
        "    'Math': [88, 92, 80, 89, 100],\n",
        "    'Science': [90, 85, 88, 92, 95],\n",
        "    'English': [85, 87, 78, 90, 88],\n",
        "    'History': [82, 79, 85, 88, 90]\n",
        "}\n",
        "\n",
        "# Create DataFrame\n",
        "df = pd.DataFrame(data)\n",
        "\n",
        "# Calculate correlation matrix\n",
        "corr_matrix = df.corr()\n",
        "\n",
        "# Plot heatmap\n",
        "sns.heatmap(corr_matrix, annot=True, cmap='coolwarm', linewidths=0.5)\n",
        "plt.title('Correlation Matrix Heatmap')\n",
        "plt.show()"
      ],
      "metadata": {
        "colab": {
          "base_uri": "https://localhost:8080/",
          "height": 452
        },
        "id": "O_C20KN4Du9y",
        "outputId": "9c522193-f5db-4d10-ac35-ca5e90530b71"
      },
      "execution_count": 4,
      "outputs": [
        {
          "output_type": "display_data",
          "data": {
            "text/plain": [
              "<Figure size 640x480 with 2 Axes>"
            ],
            "image/png": "[encoded data removed]"
          },
          "metadata": {}
        }
      ]
    },
    {
      "cell_type": "code",
      "source": [
        "##QUES5)Generate a bar plot using Plotly.\n",
        "import plotly.express as px\n",
        "import pandas as pd\n",
        "\n",
        "# Sample data\n",
        "data = {\n",
        "    'City': ['Delhi', 'Mumbai', 'Chennai', 'Kolkata', 'Bangalore'],\n",
        "    'Population': [19000000, 12500000, 7000000, 4500000, 8500000]\n",
        "}\n",
        "\n",
        "df = pd.DataFrame(data)\n",
        "\n",
        "# Create bar plot\n",
        "fig = px.bar(df, x='City', y='Population', title='Population of Major Indian Cities',\n",
        "             color='City', text='Population')\n",
        "\n",
        "# Show plot\n",
        "fig.show()"
      ],
      "metadata": {
        "colab": {
          "base_uri": "https://localhost:8080/",
          "height": 542
        },
        "id": "DGqcuEkXDuzX",
        "outputId": "4bb0b9eb-99d4-4512-fc88-5d93d264495a"
      },
      "execution_count": 5,
      "outputs": [
        {
          "output_type": "display_data",
          "data": {
            "text/html": [
              "<html>\n",
              "<head><meta charset=\"utf-8\" /></head>\n",
              "<body>\n",
              "    <div>            <script src=\"https://cdnjs.cloudflare.com/ajax/libs/mathjax/2.7.5/MathJax.js?config=TeX-AMS-MML_SVG\"></script><script type=\"text/javascript\">if (window.MathJax && window.MathJax.Hub && window.MathJax.Hub.Config) {window.MathJax.Hub.Config({SVG: {font: \"STIX-Web\"}});}</script>                <script type=\"text/javascript\">window.PlotlyConfig = {MathJaxConfig: 'local'};</script>\n",
              "        <script charset=\"utf-8\" src=\"https://cdn.plot.ly/plotly-2.35.2.min.js\"></script>                <div id=\"b22afa63-ecbd-4100-805b-c933a5c929dc\" class=\"plotly-graph-div\" style=\"height:525px; width:100%;\"></div>            <script type=\"text/javascript\">                                    window.PLOTLYENV=window.PLOTLYENV || {};                                    if (document.getElementById(\"b22afa63-ecbd-4100-805b-c933a5c929dc\")) {                    Plotly.newPlot(                        \"b22afa63-ecbd-4100-805b-c933a5c929dc\",                        [{\"alignmentgroup\":\"True\",\"hovertemplate\":\"City=%{x}\\u003cbr\\u003ePopulation=%{text}\\u003cextra\\u003e\\u003c\\u002fextra\\u003e\",\"legendgroup\":\"Delhi\",\"marker\":{\"color\":\"#636efa\",\"pattern\":{\"shape\":\"\"}},\"name\":\"Delhi\",\"offsetgroup\":\"Delhi\",\"orientation\":\"v\",\"showlegend\":true,\"text\":[19000000.0],\"textposition\":\"auto\",\"x\":[\"Delhi\"],\"xaxis\":\"x\",\"y\":[19000000],\"yaxis\":\"y\",\"type\":\"bar\"},{\"alignmentgroup\":\"True\",\"hovertemplate\":\"City=%{x}\\u003cbr\\u003ePopulation=%{text}\\u003cextra\\u003e\\u003c\\u002fextra\\u003e\",\"legendgroup\":\"Mumbai\",\"marker\":{\"color\":\"#EF553B\",\"pattern\":{\"shape\":\"\"}},\"name\":\"Mumbai\",\"offsetgroup\":\"Mumbai\",\"orientation\":\"v\",\"showlegend\":true,\"text\":[12500000.0],\"textposition\":\"auto\",\"x\":[\"Mumbai\"],\"xaxis\":\"x\",\"y\":[12500000],\"yaxis\":\"y\",\"type\":\"bar\"},{\"alignmentgroup\":\"True\",\"hovertemplate\":\"City=%{x}\\u003cbr\\u003ePopulation=%{text}\\u003cextra\\u003e\\u003c\\u002fextra\\u003e\",\"legendgroup\":\"Chennai\",\"marker\":{\"color\":\"#00cc96\",\"pattern\":{\"shape\":\"\"}},\"name\":\"Chennai\",\"offsetgroup\":\"Chennai\",\"orientation\":\"v\",\"showlegend\":true,\"text\":[7000000.0],\"textposition\":\"auto\",\"x\":[\"Chennai\"],\"xaxis\":\"x\",\"y\":[7000000],\"yaxis\":\"y\",\"type\":\"bar\"},{\"alignmentgroup\":\"True\",\"hovertemplate\":\"City=%{x}\\u003cbr\\u003ePopulation=%{text}\\u003cextra\\u003e\\u003c\\u002fextra\\u003e\",\"legendgroup\":\"Kolkata\",\"marker\":{\"color\":\"#ab63fa\",\"pattern\":{\"shape\":\"\"}},\"name\":\"Kolkata\",\"offsetgroup\":\"Kolkata\",\"orientation\":\"v\",\"showlegend\":true,\"text\":[4500000.0],\"textposition\":\"auto\",\"x\":[\"Kolkata\"],\"xaxis\":\"x\",\"y\":[4500000],\"yaxis\":\"y\",\"type\":\"bar\"},{\"alignmentgroup\":\"True\",\"hovertemplate\":\"City=%{x}\\u003cbr\\u003ePopulation=%{text}\\u003cextra\\u003e\\u003c\\u002fextra\\u003e\",\"legendgroup\":\"Bangalore\",\"marker\":{\"color\":\"#FFA15A\",\"pattern\":{\"shape\":\"\"}},\"name\":\"Bangalore\",\"offsetgroup\":\"Bangalore\",\"orientation\":\"v\",\"showlegend\":true,\"text\":[8500000.0],\"textposition\":\"auto\",\"x\":[\"Bangalore\"],\"xaxis\":\"x\",\"y\":[8500000],\"yaxis\":\"y\",\"type\":\"bar\"}],                        {\"template\":{\"data\":{\"histogram2dcontour\":[{\"type\":\"histogram2dcontour\",\"colorbar\":{\"outlinewidth\":0,\"ticks\":\"\"},\"colorscale\":[[0.0,\"#0d0887\"],[0.1111111111111111,\"#46039f\"],[0.2222222222222222,\"#7201a8\"],[0.3333333333333333,\"#9c179e\"],[0.4444444444444444,\"#bd3786\"],[0.5555555555555556,\"#d8576b\"],[0.6666666666666666,\"#ed7953\"],[0.7777777777777778,\"#fb9f3a\"],[0.8888888888888888,\"#fdca26\"],[1.0,\"#f0f921\"]]}],\"choropleth\":[{\"type\":\"choropleth\",\"colorbar\":{\"outlinewidth\":0,\"ticks\":\"\"}}],\"histogram2d\":[{\"type\":\"histogram2d\",\"colorbar\":{\"outlinewidth\":0,\"ticks\":\"\"},\"colorscale\":[[0.0,\"#0d0887\"],[0.1111111111111111,\"#46039f\"],[0.2222222222222222,\"#7201a8\"],[0.3333333333333333,\"#9c179e\"],[0.4444444444444444,\"#bd3786\"],[0.5555555555555556,\"#d8576b\"],[0.6666666666666666,\"#ed7953\"],[0.7777777777777778,\"#fb9f3a\"],[0.8888888888888888,\"#fdca26\"],[1.0,\"#f0f921\"]]}],\"heatmap\":[{\"type\":\"heatmap\",\"colorbar\":{\"outlinewidth\":0,\"ticks\":\"\"},\"colorscale\":[[0.0,\"#0d0887\"],[0.1111111111111111,\"#46039f\"],[0.2222222222222222,\"#7201a8\"],[0.3333333333333333,\"#9c179e\"],[0.4444444444444444,\"#bd3786\"],[0.5555555555555556,\"#d8576b\"],[0.6666666666666666,\"#ed7953\"],[0.7777777777777778,\"#fb9f3a\"],[0.8888888888888888,\"#fdca26\"],[1.0,\"#f0f921\"]]}],\"heatmapgl\":[{\"type\":\"heatmapgl\",\"colorbar\":{\"outlinewidth\":0,\"ticks\":\"\"},\"colorscale\":[[0.0,\"#0d0887\"],[0.1111111111111111,\"#46039f\"],[0.2222222222222222,\"#7201a8\"],[0.3333333333333333,\"#9c179e\"],[0.4444444444444444,\"#bd3786\"],[0.5555555555555556,\"#d8576b\"],[0.6666666666666666,\"#ed7953\"],[0.7777777777777778,\"#fb9f3a\"],[0.8888888888888888,\"#fdca26\"],[1.0,\"#f0f921\"]]}],\"contourcarpet\":[{\"type\":\"contourcarpet\",\"colorbar\":{\"outlinewidth\":0,\"ticks\":\"\"}}],\"contour\":[{\"type\":\"contour\",\"colorbar\":{\"outlinewidth\":0,\"ticks\":\"\"},\"colorscale\":[[0.0,\"#0d0887\"],[0.1111111111111111,\"#46039f\"],[0.2222222222222222,\"#7201a8\"],[0.3333333333333333,\"#9c179e\"],[0.4444444444444444,\"#bd3786\"],[0.5555555555555556,\"#d8576b\"],[0.6666666666666666,\"#ed7953\"],[0.7777777777777778,\"#fb9f3a\"],[0.8888888888888888,\"#fdca26\"],[1.0,\"#f0f921\"]]}],\"surface\":[{\"type\":\"surface\",\"colorbar\":{\"outlinewidth\":0,\"ticks\":\"\"},\"colorscale\":[[0.0,\"#0d0887\"],[0.1111111111111111,\"#46039f\"],[0.2222222222222222,\"#7201a8\"],[0.3333333333333333,\"#9c179e\"],[0.4444444444444444,\"#bd3786\"],[0.5555555555555556,\"#d8576b\"],[0.6666666666666666,\"#ed7953\"],[0.7777777777777778,\"#fb9f3a\"],[0.8888888888888888,\"#fdca26\"],[1.0,\"#f0f921\"]]}],\"mesh3d\":[{\"type\":\"mesh3d\",\"colorbar\":{\"outlinewidth\":0,\"ticks\":\"\"}}],\"scatter\":[{\"fillpattern\":{\"fillmode\":\"overlay\",\"size\":10,\"solidity\":0.2},\"type\":\"scatter\"}],\"parcoords\":[{\"type\":\"parcoords\",\"line\":{\"colorbar\":{\"outlinewidth\":0,\"ticks\":\"\"}}}],\"scatterpolargl\":[{\"type\":\"scatterpolargl\",\"marker\":{\"colorbar\":{\"outlinewidth\":0,\"ticks\":\"\"}}}],\"bar\":[{\"error_x\":{\"color\":\"#2a3f5f\"},\"error_y\":{\"color\":\"#2a3f5f\"},\"marker\":{\"line\":{\"color\":\"#E5ECF6\",\"width\":0.5},\"pattern\":{\"fillmode\":\"overlay\",\"size\":10,\"solidity\":0.2}},\"type\":\"bar\"}],\"scattergeo\":[{\"type\":\"scattergeo\",\"marker\":{\"colorbar\":{\"outlinewidth\":0,\"ticks\":\"\"}}}],\"scatterpolar\":[{\"type\":\"scatterpolar\",\"marker\":{\"colorbar\":{\"outlinewidth\":0,\"ticks\":\"\"}}}],\"histogram\":[{\"marker\":{\"pattern\":{\"fillmode\":\"overlay\",\"size\":10,\"solidity\":0.2}},\"type\":\"histogram\"}],\"scattergl\":[{\"type\":\"scattergl\",\"marker\":{\"colorbar\":{\"outlinewidth\":0,\"ticks\":\"\"}}}],\"scatter3d\":[{\"type\":\"scatter3d\",\"line\":{\"colorbar\":{\"outlinewidth\":0,\"ticks\":\"\"}},\"marker\":{\"colorbar\":{\"outlinewidth\":0,\"ticks\":\"\"}}}],\"scattermapbox\":[{\"type\":\"scattermapbox\",\"marker\":{\"colorbar\":{\"outlinewidth\":0,\"ticks\":\"\"}}}],\"scatterternary\":[{\"type\":\"scatterternary\",\"marker\":{\"colorbar\":{\"outlinewidth\":0,\"ticks\":\"\"}}}],\"scattercarpet\":[{\"type\":\"scattercarpet\",\"marker\":{\"colorbar\":{\"outlinewidth\":0,\"ticks\":\"\"}}}],\"carpet\":[{\"aaxis\":{\"endlinecolor\":\"#2a3f5f\",\"gridcolor\":\"white\",\"linecolor\":\"white\",\"minorgridcolor\":\"white\",\"startlinecolor\":\"#2a3f5f\"},\"baxis\":{\"endlinecolor\":\"#2a3f5f\",\"gridcolor\":\"white\",\"linecolor\":\"white\",\"minorgridcolor\":\"white\",\"startlinecolor\":\"#2a3f5f\"},\"type\":\"carpet\"}],\"table\":[{\"cells\":{\"fill\":{\"color\":\"#EBF0F8\"},\"line\":{\"color\":\"white\"}},\"header\":{\"fill\":{\"color\":\"#C8D4E3\"},\"line\":{\"color\":\"white\"}},\"type\":\"table\"}],\"barpolar\":[{\"marker\":{\"line\":{\"color\":\"#E5ECF6\",\"width\":0.5},\"pattern\":{\"fillmode\":\"overlay\",\"size\":10,\"solidity\":0.2}},\"type\":\"barpolar\"}],\"pie\":[{\"automargin\":true,\"type\":\"pie\"}]},\"layout\":{\"autotypenumbers\":\"strict\",\"colorway\":[\"#636efa\",\"#EF553B\",\"#00cc96\",\"#ab63fa\",\"#FFA15A\",\"#19d3f3\",\"#FF6692\",\"#B6E880\",\"#FF97FF\",\"#FECB52\"],\"font\":{\"color\":\"#2a3f5f\"},\"hovermode\":\"closest\",\"hoverlabel\":{\"align\":\"left\"},\"paper_bgcolor\":\"white\",\"plot_bgcolor\":\"#E5ECF6\",\"polar\":{\"bgcolor\":\"#E5ECF6\",\"angularaxis\":{\"gridcolor\":\"white\",\"linecolor\":\"white\",\"ticks\":\"\"},\"radialaxis\":{\"gridcolor\":\"white\",\"linecolor\":\"white\",\"ticks\":\"\"}},\"ternary\":{\"bgcolor\":\"#E5ECF6\",\"aaxis\":{\"gridcolor\":\"white\",\"linecolor\":\"white\",\"ticks\":\"\"},\"baxis\":{\"gridcolor\":\"white\",\"linecolor\":\"white\",\"ticks\":\"\"},\"caxis\":{\"gridcolor\":\"white\",\"linecolor\":\"white\",\"ticks\":\"\"}},\"coloraxis\":{\"colorbar\":{\"outlinewidth\":0,\"ticks\":\"\"}},\"colorscale\":{\"sequential\":[[0.0,\"#0d0887\"],[0.1111111111111111,\"#46039f\"],[0.2222222222222222,\"#7201a8\"],[0.3333333333333333,\"#9c179e\"],[0.4444444444444444,\"#bd3786\"],[0.5555555555555556,\"#d8576b\"],[0.6666666666666666,\"#ed7953\"],[0.7777777777777778,\"#fb9f3a\"],[0.8888888888888888,\"#fdca26\"],[1.0,\"#f0f921\"]],\"sequentialminus\":[[0.0,\"#0d0887\"],[0.1111111111111111,\"#46039f\"],[0.2222222222222222,\"#7201a8\"],[0.3333333333333333,\"#9c179e\"],[0.4444444444444444,\"#bd3786\"],[0.5555555555555556,\"#d8576b\"],[0.6666666666666666,\"#ed7953\"],[0.7777777777777778,\"#fb9f3a\"],[0.8888888888888888,\"#fdca26\"],[1.0,\"#f0f921\"]],\"diverging\":[[0,\"#8e0152\"],[0.1,\"#c51b7d\"],[0.2,\"#de77ae\"],[0.3,\"#f1b6da\"],[0.4,\"#fde0ef\"],[0.5,\"#f7f7f7\"],[0.6,\"#e6f5d0\"],[0.7,\"#b8e186\"],[0.8,\"#7fbc41\"],[0.9,\"#4d9221\"],[1,\"#276419\"]]},\"xaxis\":{\"gridcolor\":\"white\",\"linecolor\":\"white\",\"ticks\":\"\",\"title\":{\"standoff\":15},\"zerolinecolor\":\"white\",\"automargin\":true,\"zerolinewidth\":2},\"yaxis\":{\"gridcolor\":\"white\",\"linecolor\":\"white\",\"ticks\":\"\",\"title\":{\"standoff\":15},\"zerolinecolor\":\"white\",\"automargin\":true,\"zerolinewidth\":2},\"scene\":{\"xaxis\":{\"backgroundcolor\":\"#E5ECF6\",\"gridcolor\":\"white\",\"linecolor\":\"white\",\"showbackground\":true,\"ticks\":\"\",\"zerolinecolor\":\"white\",\"gridwidth\":2},\"yaxis\":{\"backgroundcolor\":\"#E5ECF6\",\"gridcolor\":\"white\",\"linecolor\":\"white\",\"showbackground\":true,\"ticks\":\"\",\"zerolinecolor\":\"white\",\"gridwidth\":2},\"zaxis\":{\"backgroundcolor\":\"#E5ECF6\",\"gridcolor\":\"white\",\"linecolor\":\"white\",\"showbackground\":true,\"ticks\":\"\",\"zerolinecolor\":\"white\",\"gridwidth\":2}},\"shapedefaults\":{\"line\":{\"color\":\"#2a3f5f\"}},\"annotationdefaults\":{\"arrowcolor\":\"#2a3f5f\",\"arrowhead\":0,\"arrowwidth\":1},\"geo\":{\"bgcolor\":\"white\",\"landcolor\":\"#E5ECF6\",\"subunitcolor\":\"white\",\"showland\":true,\"showlakes\":true,\"lakecolor\":\"white\"},\"title\":{\"x\":0.05},\"mapbox\":{\"style\":\"light\"}}},\"xaxis\":{\"anchor\":\"y\",\"domain\":[0.0,1.0],\"title\":{\"text\":\"City\"},\"categoryorder\":\"array\",\"categoryarray\":[\"Delhi\",\"Mumbai\",\"Chennai\",\"Kolkata\",\"Bangalore\"]},\"yaxis\":{\"anchor\":\"x\",\"domain\":[0.0,1.0],\"title\":{\"text\":\"Population\"}},\"legend\":{\"title\":{\"text\":\"City\"},\"tracegroupgap\":0},\"title\":{\"text\":\"Population of Major Indian Cities\"},\"barmode\":\"relative\"},                        {\"responsive\": true}                    ).then(function(){\n",
              "                            \n",
              "var gd = document.getElementById('b22afa63-ecbd-4100-805b-c933a5c929dc');\n",
              "var x = new MutationObserver(function (mutations, observer) {{\n",
              "        var display = window.getComputedStyle(gd).display;\n",
              "        if (!display || display === 'none') {{\n",
              "            console.log([gd, 'removed!']);\n",
              "            Plotly.purge(gd);\n",
              "            observer.disconnect();\n",
              "        }}\n",
              "}});\n",
              "\n",
              "// Listen for the removal of the full notebook cells\n",
              "var notebookContainer = gd.closest('#notebook-container');\n",
              "if (notebookContainer) {{\n",
              "    x.observe(notebookContainer, {childList: true});\n",
              "}}\n",
              "\n",
              "// Listen for the clearing of the current output cell\n",
              "var outputEl = gd.closest('.output');\n",
              "if (outputEl) {{\n",
              "    x.observe(outputEl, {childList: true});\n",
              "}}\n",
              "\n",
              "                        })                };                            </script>        </div>\n",
              "</body>\n",
              "</html>"
            ]
          },
          "metadata": {}
        }
      ]
    },
    {
      "cell_type": "code",
      "source": [
        "##QUES6) Create a DataFrame and add a new column based on an existing column\n",
        "import pandas as pd\n",
        "\n",
        "# Create a sample DataFrame\n",
        "data = {\n",
        "    'Name': ['Alice', 'Bob', 'Charlie', 'David'],\n",
        "    'Score': [85, 92, 78, 88]\n",
        "}\n",
        "\n",
        "df = pd.DataFrame(data)\n",
        "\n",
        "# Add a new column based on 'Score'\n",
        "# For example, classify performance as 'High' or 'Low'\n",
        "df['Performance'] = df['Score'].apply(lambda x: 'High' if x >= 85 else 'Low')\n",
        "\n",
        "# Display the updated DataFrame\n",
        "print(df)"
      ],
      "metadata": {
        "colab": {
          "base_uri": "https://localhost:8080/"
        },
        "id": "pzFC5FEVKB4K",
        "outputId": "8b63a0c8-b16b-4271-8600-e24751c0abd9"
      },
      "execution_count": 6,
      "outputs": [
        {
          "output_type": "stream",
          "name": "stdout",
          "text": [
            "      Name  Score Performance\n",
            "0    Alice     85        High\n",
            "1      Bob     92        High\n",
            "2  Charlie     78         Low\n",
            "3    David     88        High\n"
          ]
        }
      ]
    },
    {
      "cell_type": "code",
      "source": [
        "##QUES7)  Write a program to perform element-wise multiplication of two NumPy arrays.\n",
        "import numpy as np\n",
        "\n",
        "# Define two NumPy arrays\n",
        "array1 = np.array([2, 4, 6, 8])\n",
        "array2 = np.array([1, 3, 5, 7])\n",
        "\n",
        "# Perform element-wise multiplication\n",
        "result = array1 * array2\n",
        "\n",
        "# Display the result\n",
        "print(\"Array 1:\", array1)\n",
        "print(\"Array 2:\", array2)\n",
        "print(\"Element-wise multiplication:\", result)"
      ],
      "metadata": {
        "colab": {
          "base_uri": "https://localhost:8080/"
        },
        "id": "z_CvEkhgKB1C",
        "outputId": "86ec1c23-fdde-416e-8f8e-952c7b93fde3"
      },
      "execution_count": 7,
      "outputs": [
        {
          "output_type": "stream",
          "name": "stdout",
          "text": [
            "Array 1: [2 4 6 8]\n",
            "Array 2: [1 3 5 7]\n",
            "Element-wise multiplication: [ 2 12 30 56]\n"
          ]
        }
      ]
    },
    {
      "cell_type": "code",
      "source": [
        "##QUES8)  Create a line plot with multiple lines using Matplotlib.\n",
        "import matplotlib.pyplot as plt\n",
        "\n",
        "# Sample data\n",
        "x = [1, 2, 3, 4, 5]\n",
        "y1 = [2, 4, 6, 8, 10]\n",
        "y2 = [1, 3, 5, 7, 9]\n",
        "y3 = [5, 3, 4, 2, 1]\n",
        "\n",
        "# Create the plot\n",
        "plt.plot(x, y1, label='Line 1', color='blue', marker='o')\n",
        "plt.plot(x, y2, label='Line 2', color='green', linestyle='--')\n",
        "plt.plot(x, y3, label='Line 3', color='red', linewidth=2)\n",
        "\n",
        "# Add labels and title\n",
        "plt.xlabel('X-axis')\n",
        "plt.ylabel('Y-axis')\n",
        "plt.title('Multiple Line Plot Example')\n",
        "\n",
        "# Add legend\n",
        "plt.legend()\n",
        "\n",
        "# Display the plot\n",
        "plt.show()"
      ],
      "metadata": {
        "colab": {
          "base_uri": "https://localhost:8080/",
          "height": 472
        },
        "id": "Ho_bvvm0KByp",
        "outputId": "a934cf74-2bca-405f-b062-8e8b7c337ed4"
      },
      "execution_count": 8,
      "outputs": [
        {
          "output_type": "display_data",
          "data": {
            "text/plain": [
              "<Figure size 640x480 with 1 Axes>"
            ],
            "image/png": "[encoded data removed]"
          },
          "metadata": {}
        }
      ]
    },
    {
      "cell_type": "code",
      "source": [
        "##QUES9) Generate a Pandas DataFrame and filter rows where a column value is greater than a threshold\n",
        "import pandas as pd\n",
        "\n",
        "# Create a sample DataFrame\n",
        "data = {\n",
        "    'Name': ['Amit', 'Bhavna', 'Chetan', 'Divya', 'Esha'],\n",
        "    'Marks': [72, 85, 67, 90, 76]\n",
        "}\n",
        "\n",
        "df = pd.DataFrame(data)\n",
        "\n",
        "# Define the threshold\n",
        "threshold = 75\n",
        "\n",
        "# Filter rows where 'Marks' > threshold\n",
        "filtered_df = df[df['Marks'] > threshold]\n",
        "\n",
        "# Display the filtered DataFrame\n",
        "print(\"Students with Marks greater than\", threshold)\n",
        "print(filtered_df)"
      ],
      "metadata": {
        "colab": {
          "base_uri": "https://localhost:8080/"
        },
        "id": "7LPDG_Z6KBiE",
        "outputId": "b289824c-5144-4718-a366-5f94432a97b1"
      },
      "execution_count": 9,
      "outputs": [
        {
          "output_type": "stream",
          "name": "stdout",
          "text": [
            "Students with Marks greater than 75\n",
            "     Name  Marks\n",
            "1  Bhavna     85\n",
            "3   Divya     90\n",
            "4    Esha     76\n"
          ]
        }
      ]
    },
    {
      "cell_type": "code",
      "source": [
        "##QUES10) Create a histogram using Seaborn to visualize a distribution.\n",
        "import seaborn as sns\n",
        "import matplotlib.pyplot as plt\n",
        "import numpy as np\n",
        "\n",
        "# Generate sample data: 1000 values from a normal distribution\n",
        "data = np.random.normal(loc=50, scale=10, size=1000)\n",
        "\n",
        "# Create histogram using Seaborn\n",
        "sns.histplot(data, bins=30, kde=False, color='skyblue')\n",
        "\n",
        "# Add labels and title\n",
        "plt.xlabel('Value')\n",
        "plt.ylabel('Frequency')\n",
        "plt.title('Histogram of Normally Distributed Data')\n",
        "\n",
        "# Show the plot\n",
        "plt.show()"
      ],
      "metadata": {
        "colab": {
          "base_uri": "https://localhost:8080/",
          "height": 472
        },
        "id": "zSQ59GoUKBfO",
        "outputId": "e4b5ae9e-ea03-4e18-8f69-6c193e98aac3"
      },
      "execution_count": 10,
      "outputs": [
        {
          "output_type": "display_data",
          "data": {
            "text/plain": [
              "<Figure size 640x480 with 1 Axes>"
            ],
            "image/png": "[encoded data removed]"
          },
          "metadata": {}
        }
      ]
    },
    {
      "cell_type": "code",
      "source": [
        "##QUES11)Perform matrix multiplication using NumPy.\n",
        "import numpy as np\n",
        "\n",
        "# Define two matrices\n",
        "A = np.array([[1, 2],\n",
        "              [3, 4]])\n",
        "\n",
        "B = np.array([[5, 6],\n",
        "              [7, 8]])\n",
        "\n",
        "# Perform matrix multiplication\n",
        "result = np.dot(A, B)\n",
        "\n",
        "# Display the result\n",
        "print(\"Matrix A:\")\n",
        "print(A)\n",
        "print(\"\\nMatrix B:\")\n",
        "print(B)\n",
        "print(\"\\nMatrix Multiplication (A × B):\")\n",
        "print(result)"
      ],
      "metadata": {
        "colab": {
          "base_uri": "https://localhost:8080/"
        },
        "id": "cF4G4usiKBc9",
        "outputId": "7066737e-8ac3-4f39-855f-046813054d24"
      },
      "execution_count": 11,
      "outputs": [
        {
          "output_type": "stream",
          "name": "stdout",
          "text": [
            "Matrix A:\n",
            "[[1 2]\n",
            " [3 4]]\n",
            "\n",
            "Matrix B:\n",
            "[[5 6]\n",
            " [7 8]]\n",
            "\n",
            "Matrix Multiplication (A × B):\n",
            "[[19 22]\n",
            " [43 50]]\n"
          ]
        }
      ]
    },
    {
      "cell_type": "code",
      "source": [
        "##QUES12) Use Pandas to load a CSV file and display its first 5 rows.\n",
        "import pandas as pd\n",
        "\n",
        "# Load the CSV file\n",
        "df = pd.read_csv('your_file.csv')  # Replace 'your_file.csv' with your actual file path\n",
        "\n",
        "# Display the first 5 rows\n",
        "print(df.head())"
      ],
      "metadata": {
        "colab": {
          "base_uri": "https://localhost:8080/",
          "height": 356
        },
        "id": "rtoyO0w4KBZ8",
        "outputId": "60f15f5f-7ca4-4731-e2ec-d7aa7d39a66b"
      },
      "execution_count": 12,
      "outputs": [
        {
          "output_type": "error",
          "ename": "FileNotFoundError",
          "evalue": "[Errno 2] No such file or directory: 'your_file.csv'",
          "traceback": [
            "\u001b[0;31m---------------------------------------------------------------------------\u001b[0m",
            "\u001b[0;31mFileNotFoundError\u001b[0m                         Traceback (most recent call last)",
            "\u001b[0;32m/tmp/ipython-input-197402241.py\u001b[0m in \u001b[0;36m<cell line: 0>\u001b[0;34m()\u001b[0m\n\u001b[1;32m      3\u001b[0m \u001b[0;34m\u001b[0m\u001b[0m\n\u001b[1;32m      4\u001b[0m \u001b[0;31m# Load the CSV file\u001b[0m\u001b[0;34m\u001b[0m\u001b[0;34m\u001b[0m\u001b[0m\n\u001b[0;32m----> 5\u001b[0;31m \u001b[0mdf\u001b[0m \u001b[0;34m=\u001b[0m \u001b[0mpd\u001b[0m\u001b[0;34m.\u001b[0m\u001b[0mread_csv\u001b[0m\u001b[0;34m(\u001b[0m\u001b[0;34m'your_file.csv'\u001b[0m\u001b[0;34m)\u001b[0m  \u001b[0;31m# Replace 'your_file.csv' with your actual file path\u001b[0m\u001b[0;34m\u001b[0m\u001b[0;34m\u001b[0m\u001b[0m\n\u001b[0m\u001b[1;32m      6\u001b[0m \u001b[0;34m\u001b[0m\u001b[0m\n\u001b[1;32m      7\u001b[0m \u001b[0;31m# Display the first 5 rows\u001b[0m\u001b[0;34m\u001b[0m\u001b[0;34m\u001b[0m\u001b[0m\n",
            "\u001b[0;32m/usr/local/lib/python3.12/dist-packages/pandas/io/parsers/readers.py\u001b[0m in \u001b[0;36mread_csv\u001b[0;34m(filepath_or_buffer, sep, delimiter, header, names, index_col, usecols, dtype, engine, converters, true_values, false_values, skipinitialspace, skiprows, skipfooter, nrows, na_values, keep_default_na, na_filter, verbose, skip_blank_lines, parse_dates, infer_datetime_format, keep_date_col, date_parser, date_format, dayfirst, cache_dates, iterator, chunksize, compression, thousands, decimal, lineterminator, quotechar, quoting, doublequote, escapechar, comment, encoding, encoding_errors, dialect, on_bad_lines, delim_whitespace, low_memory, memory_map, float_precision, storage_options, dtype_backend)\u001b[0m\n\u001b[1;32m   1024\u001b[0m     \u001b[0mkwds\u001b[0m\u001b[0;34m.\u001b[0m\u001b[0mupdate\u001b[0m\u001b[0;34m(\u001b[0m\u001b[0mkwds_defaults\u001b[0m\u001b[0;34m)\u001b[0m\u001b[0;34m\u001b[0m\u001b[0;34m\u001b[0m\u001b[0m\n\u001b[1;32m   1025\u001b[0m \u001b[0;34m\u001b[0m\u001b[0m\n\u001b[0;32m-> 1026\u001b[0;31m     \u001b[0;32mreturn\u001b[0m \u001b[0m_read\u001b[0m\u001b[0;34m(\u001b[0m\u001b[0mfilepath_or_buffer\u001b[0m\u001b[0;34m,\u001b[0m \u001b[0mkwds\u001b[0m\u001b[0;34m)\u001b[0m\u001b[0;34m\u001b[0m\u001b[0;34m\u001b[0m\u001b[0m\n\u001b[0m\u001b[1;32m   1027\u001b[0m \u001b[0;34m\u001b[0m\u001b[0m\n\u001b[1;32m   1028\u001b[0m \u001b[0;34m\u001b[0m\u001b[0m\n",
            "\u001b[0;32m/usr/local/lib/python3.12/dist-packages/pandas/io/parsers/readers.py\u001b[0m in \u001b[0;36m_read\u001b[0;34m(filepath_or_buffer, kwds)\u001b[0m\n\u001b[1;32m    618\u001b[0m \u001b[0;34m\u001b[0m\u001b[0m\n\u001b[1;32m    619\u001b[0m     \u001b[0;31m# Create the parser.\u001b[0m\u001b[0;34m\u001b[0m\u001b[0;34m\u001b[0m\u001b[0m\n\u001b[0;32m--> 620\u001b[0;31m     \u001b[0mparser\u001b[0m \u001b[0;34m=\u001b[0m \u001b[0mTextFileReader\u001b[0m\u001b[0;34m(\u001b[0m\u001b[0mfilepath_or_buffer\u001b[0m\u001b[0;34m,\u001b[0m \u001b[0;34m**\u001b[0m\u001b[0mkwds\u001b[0m\u001b[0;34m)\u001b[0m\u001b[0;34m\u001b[0m\u001b[0;34m\u001b[0m\u001b[0m\n\u001b[0m\u001b[1;32m    621\u001b[0m \u001b[0;34m\u001b[0m\u001b[0m\n\u001b[1;32m    622\u001b[0m     \u001b[0;32mif\u001b[0m \u001b[0mchunksize\u001b[0m \u001b[0;32mor\u001b[0m \u001b[0miterator\u001b[0m\u001b[0;34m:\u001b[0m\u001b[0;34m\u001b[0m\u001b[0;34m\u001b[0m\u001b[0m\n",
            "\u001b[0;32m/usr/local/lib/python3.12/dist-packages/pandas/io/parsers/readers.py\u001b[0m in \u001b[0;36m__init__\u001b[0;34m(self, f, engine, **kwds)\u001b[0m\n\u001b[1;32m   1618\u001b[0m \u001b[0;34m\u001b[0m\u001b[0m\n\u001b[1;32m   1619\u001b[0m         \u001b[0mself\u001b[0m\u001b[0;34m.\u001b[0m\u001b[0mhandles\u001b[0m\u001b[0;34m:\u001b[0m \u001b[0mIOHandles\u001b[0m \u001b[0;34m|\u001b[0m \u001b[0;32mNone\u001b[0m \u001b[0;34m=\u001b[0m \u001b[0;32mNone\u001b[0m\u001b[0;34m\u001b[0m\u001b[0;34m\u001b[0m\u001b[0m\n\u001b[0;32m-> 1620\u001b[0;31m         \u001b[0mself\u001b[0m\u001b[0;34m.\u001b[0m\u001b[0m_engine\u001b[0m \u001b[0;34m=\u001b[0m \u001b[0mself\u001b[0m\u001b[0;34m.\u001b[0m\u001b[0m_make_engine\u001b[0m\u001b[0;34m(\u001b[0m\u001b[0mf\u001b[0m\u001b[0;34m,\u001b[0m \u001b[0mself\u001b[0m\u001b[0;34m.\u001b[0m\u001b[0mengine\u001b[0m\u001b[0;34m)\u001b[0m\u001b[0;34m\u001b[0m\u001b[0;34m\u001b[0m\u001b[0m\n\u001b[0m\u001b[1;32m   1621\u001b[0m \u001b[0;34m\u001b[0m\u001b[0m\n\u001b[1;32m   1622\u001b[0m     \u001b[0;32mdef\u001b[0m \u001b[0mclose\u001b[0m\u001b[0;34m(\u001b[0m\u001b[0mself\u001b[0m\u001b[0;34m)\u001b[0m \u001b[0;34m->\u001b[0m \u001b[0;32mNone\u001b[0m\u001b[0;34m:\u001b[0m\u001b[0;34m\u001b[0m\u001b[0;34m\u001b[0m\u001b[0m\n",
            "\u001b[0;32m/usr/local/lib/python3.12/dist-packages/pandas/io/parsers/readers.py\u001b[0m in \u001b[0;36m_make_engine\u001b[0;34m(self, f, engine)\u001b[0m\n\u001b[1;32m   1878\u001b[0m                 \u001b[0;32mif\u001b[0m \u001b[0;34m\"b\"\u001b[0m \u001b[0;32mnot\u001b[0m \u001b[0;32min\u001b[0m \u001b[0mmode\u001b[0m\u001b[0;34m:\u001b[0m\u001b[0;34m\u001b[0m\u001b[0;34m\u001b[0m\u001b[0m\n\u001b[1;32m   1879\u001b[0m                     \u001b[0mmode\u001b[0m \u001b[0;34m+=\u001b[0m \u001b[0;34m\"b\"\u001b[0m\u001b[0;34m\u001b[0m\u001b[0;34m\u001b[0m\u001b[0m\n\u001b[0;32m-> 1880\u001b[0;31m             self.handles = get_handle(\n\u001b[0m\u001b[1;32m   1881\u001b[0m                 \u001b[0mf\u001b[0m\u001b[0;34m,\u001b[0m\u001b[0;34m\u001b[0m\u001b[0;34m\u001b[0m\u001b[0m\n\u001b[1;32m   1882\u001b[0m                 \u001b[0mmode\u001b[0m\u001b[0;34m,\u001b[0m\u001b[0;34m\u001b[0m\u001b[0;34m\u001b[0m\u001b[0m\n",
            "\u001b[0;32m/usr/local/lib/python3.12/dist-packages/pandas/io/common.py\u001b[0m in \u001b[0;36mget_handle\u001b[0;34m(path_or_buf, mode, encoding, compression, memory_map, is_text, errors, storage_options)\u001b[0m\n\u001b[1;32m    871\u001b[0m         \u001b[0;32mif\u001b[0m \u001b[0mioargs\u001b[0m\u001b[0;34m.\u001b[0m\u001b[0mencoding\u001b[0m \u001b[0;32mand\u001b[0m \u001b[0;34m\"b\"\u001b[0m \u001b[0;32mnot\u001b[0m \u001b[0;32min\u001b[0m \u001b[0mioargs\u001b[0m\u001b[0;34m.\u001b[0m\u001b[0mmode\u001b[0m\u001b[0;34m:\u001b[0m\u001b[0;34m\u001b[0m\u001b[0;34m\u001b[0m\u001b[0m\n\u001b[1;32m    872\u001b[0m             \u001b[0;31m# Encoding\u001b[0m\u001b[0;34m\u001b[0m\u001b[0;34m\u001b[0m\u001b[0m\n\u001b[0;32m--> 873\u001b[0;31m             handle = open(\n\u001b[0m\u001b[1;32m    874\u001b[0m                 \u001b[0mhandle\u001b[0m\u001b[0;34m,\u001b[0m\u001b[0;34m\u001b[0m\u001b[0;34m\u001b[0m\u001b[0m\n\u001b[1;32m    875\u001b[0m                 \u001b[0mioargs\u001b[0m\u001b[0;34m.\u001b[0m\u001b[0mmode\u001b[0m\u001b[0;34m,\u001b[0m\u001b[0;34m\u001b[0m\u001b[0;34m\u001b[0m\u001b[0m\n",
            "\u001b[0;31mFileNotFoundError\u001b[0m: [Errno 2] No such file or directory: 'your_file.csv'"
          ]
        }
      ]
    },
    {
      "cell_type": "code",
      "source": [
        "##QUES13) Create a 3D scatter plot using Plotly.\n",
        "import plotly.express as px\n",
        "\n",
        "# Load sample dataset (Iris flower measurements)\n",
        "df = px.data.iris()\n",
        "\n",
        "# Create 3D scatter plot\n",
        "fig = px.scatter_3d(\n",
        "    df,\n",
        "    x='sepal_length',\n",
        "    y='sepal_width',\n",
        "    z='petal_width',\n",
        "    color='species',           # Color points by species\n",
        "    symbol='species',          # Use different marker shapes\n",
        "    title='3D Scatter Plot of Iris Dataset'\n",
        ")\n",
        "\n",
        "# Show the plot\n",
        "fig.show()"
      ],
      "metadata": {
        "colab": {
          "base_uri": "https://localhost:8080/",
          "height": 542
        },
        "id": "c8dD3R3IKRj-",
        "outputId": "26d6eb8d-72dc-42ed-bc3e-d5ee70faccc8"
      },
      "execution_count": 13,
      "outputs": [
        {
          "output_type": "display_data",
          "data": {
            "text/html": [
              "<html>\n",
              "<head><meta charset=\"utf-8\" /></head>\n",
              "<body>\n",
              "    <div>            <script src=\"https://cdnjs.cloudflare.com/ajax/libs/mathjax/2.7.5/MathJax.js?config=TeX-AMS-MML_SVG\"></script><script type=\"text/javascript\">if (window.MathJax && window.MathJax.Hub && window.MathJax.Hub.Config) {window.MathJax.Hub.Config({SVG: {font: \"STIX-Web\"}});}</script>                <script type=\"text/javascript\">window.PlotlyConfig = {MathJaxConfig: 'local'};</script>\n",
              "        <script charset=\"utf-8\" src=\"https://cdn.plot.ly/plotly-2.35.2.min.js\"></script>                <div id=\"5c8f2add-b9e6-48fc-a8f5-9cc4d7588d10\" class=\"plotly-graph-div\" style=\"height:525px; width:100%;\"></div>            <script type=\"text/javascript\">                                    window.PLOTLYENV=window.PLOTLYENV || {};                                    if (document.getElementById(\"5c8f2add-b9e6-48fc-a8f5-9cc4d7588d10\")) {                    Plotly.newPlot(                        \"5c8f2add-b9e6-48fc-a8f5-9cc4d7588d10\",                        [{\"hovertemplate\":\"species=setosa\\u003cbr\\u003esepal_length=%{x}\\u003cbr\\u003esepal_width=%{y}\\u003cbr\\u003epetal_width=%{z}\\u003cextra\\u003e\\u003c\\u002fextra\\u003e\",\"legendgroup\":\"setosa\",\"marker\":{\"color\":\"#636efa\",\"symbol\":\"circle\"},\"mode\":\"markers\",\"name\":\"setosa\",\"scene\":\"scene\",\"showlegend\":true,\"x\":[5.1,4.9,4.7,4.6,5.0,5.4,4.6,5.0,4.4,4.9,5.4,4.8,4.8,4.3,5.8,5.7,5.4,5.1,5.7,5.1,5.4,5.1,4.6,5.1,4.8,5.0,5.0,5.2,5.2,4.7,4.8,5.4,5.2,5.5,4.9,5.0,5.5,4.9,4.4,5.1,5.0,4.5,4.4,5.0,5.1,4.8,5.1,4.6,5.3,5.0],\"y\":[3.5,3.0,3.2,3.1,3.6,3.9,3.4,3.4,2.9,3.1,3.7,3.4,3.0,3.0,4.0,4.4,3.9,3.5,3.8,3.8,3.4,3.7,3.6,3.3,3.4,3.0,3.4,3.5,3.4,3.2,3.1,3.4,4.1,4.2,3.1,3.2,3.5,3.1,3.0,3.4,3.5,2.3,3.2,3.5,3.8,3.0,3.8,3.2,3.7,3.3],\"z\":[0.2,0.2,0.2,0.2,0.2,0.4,0.3,0.2,0.2,0.1,0.2,0.2,0.1,0.1,0.2,0.4,0.4,0.3,0.3,0.3,0.2,0.4,0.2,0.5,0.2,0.2,0.4,0.2,0.2,0.2,0.2,0.4,0.1,0.2,0.1,0.2,0.2,0.1,0.2,0.2,0.3,0.3,0.2,0.6,0.4,0.3,0.2,0.2,0.2,0.2],\"type\":\"scatter3d\"},{\"hovertemplate\":\"species=versicolor\\u003cbr\\u003esepal_length=%{x}\\u003cbr\\u003esepal_width=%{y}\\u003cbr\\u003epetal_width=%{z}\\u003cextra\\u003e\\u003c\\u002fextra\\u003e\",\"legendgroup\":\"versicolor\",\"marker\":{\"color\":\"#EF553B\",\"symbol\":\"diamond\"},\"mode\":\"markers\",\"name\":\"versicolor\",\"scene\":\"scene\",\"showlegend\":true,\"x\":[7.0,6.4,6.9,5.5,6.5,5.7,6.3,4.9,6.6,5.2,5.0,5.9,6.0,6.1,5.6,6.7,5.6,5.8,6.2,5.6,5.9,6.1,6.3,6.1,6.4,6.6,6.8,6.7,6.0,5.7,5.5,5.5,5.8,6.0,5.4,6.0,6.7,6.3,5.6,5.5,5.5,6.1,5.8,5.0,5.6,5.7,5.7,6.2,5.1,5.7],\"y\":[3.2,3.2,3.1,2.3,2.8,2.8,3.3,2.4,2.9,2.7,2.0,3.0,2.2,2.9,2.9,3.1,3.0,2.7,2.2,2.5,3.2,2.8,2.5,2.8,2.9,3.0,2.8,3.0,2.9,2.6,2.4,2.4,2.7,2.7,3.0,3.4,3.1,2.3,3.0,2.5,2.6,3.0,2.6,2.3,2.7,3.0,2.9,2.9,2.5,2.8],\"z\":[1.4,1.5,1.5,1.3,1.5,1.3,1.6,1.0,1.3,1.4,1.0,1.5,1.0,1.4,1.3,1.4,1.5,1.0,1.5,1.1,1.8,1.3,1.5,1.2,1.3,1.4,1.4,1.7,1.5,1.0,1.1,1.0,1.2,1.6,1.5,1.6,1.5,1.3,1.3,1.3,1.2,1.4,1.2,1.0,1.3,1.2,1.3,1.3,1.1,1.3],\"type\":\"scatter3d\"},{\"hovertemplate\":\"species=virginica\\u003cbr\\u003esepal_length=%{x}\\u003cbr\\u003esepal_width=%{y}\\u003cbr\\u003epetal_width=%{z}\\u003cextra\\u003e\\u003c\\u002fextra\\u003e\",\"legendgroup\":\"virginica\",\"marker\":{\"color\":\"#00cc96\",\"symbol\":\"square\"},\"mode\":\"markers\",\"name\":\"virginica\",\"scene\":\"scene\",\"showlegend\":true,\"x\":[6.3,5.8,7.1,6.3,6.5,7.6,4.9,7.3,6.7,7.2,6.5,6.4,6.8,5.7,5.8,6.4,6.5,7.7,7.7,6.0,6.9,5.6,7.7,6.3,6.7,7.2,6.2,6.1,6.4,7.2,7.4,7.9,6.4,6.3,6.1,7.7,6.3,6.4,6.0,6.9,6.7,6.9,5.8,6.8,6.7,6.7,6.3,6.5,6.2,5.9],\"y\":[3.3,2.7,3.0,2.9,3.0,3.0,2.5,2.9,2.5,3.6,3.2,2.7,3.0,2.5,2.8,3.2,3.0,3.8,2.6,2.2,3.2,2.8,2.8,2.7,3.3,3.2,2.8,3.0,2.8,3.0,2.8,3.8,2.8,2.8,2.6,3.0,3.4,3.1,3.0,3.1,3.1,3.1,2.7,3.2,3.3,3.0,2.5,3.0,3.4,3.0],\"z\":[2.5,1.9,2.1,1.8,2.2,2.1,1.7,1.8,1.8,2.5,2.0,1.9,2.1,2.0,2.4,2.3,1.8,2.2,2.3,1.5,2.3,2.0,2.0,1.8,2.1,1.8,1.8,1.8,2.1,1.6,1.9,2.0,2.2,1.5,1.4,2.3,2.4,1.8,1.8,2.1,2.4,2.3,1.9,2.3,2.5,2.3,1.9,2.0,2.3,1.8],\"type\":\"scatter3d\"}],                        {\"template\":{\"data\":{\"histogram2dcontour\":[{\"type\":\"histogram2dcontour\",\"colorbar\":{\"outlinewidth\":0,\"ticks\":\"\"},\"colorscale\":[[0.0,\"#0d0887\"],[0.1111111111111111,\"#46039f\"],[0.2222222222222222,\"#7201a8\"],[0.3333333333333333,\"#9c179e\"],[0.4444444444444444,\"#bd3786\"],[0.5555555555555556,\"#d8576b\"],[0.6666666666666666,\"#ed7953\"],[0.7777777777777778,\"#fb9f3a\"],[0.8888888888888888,\"#fdca26\"],[1.0,\"#f0f921\"]]}],\"choropleth\":[{\"type\":\"choropleth\",\"colorbar\":{\"outlinewidth\":0,\"ticks\":\"\"}}],\"histogram2d\":[{\"type\":\"histogram2d\",\"colorbar\":{\"outlinewidth\":0,\"ticks\":\"\"},\"colorscale\":[[0.0,\"#0d0887\"],[0.1111111111111111,\"#46039f\"],[0.2222222222222222,\"#7201a8\"],[0.3333333333333333,\"#9c179e\"],[0.4444444444444444,\"#bd3786\"],[0.5555555555555556,\"#d8576b\"],[0.6666666666666666,\"#ed7953\"],[0.7777777777777778,\"#fb9f3a\"],[0.8888888888888888,\"#fdca26\"],[1.0,\"#f0f921\"]]}],\"heatmap\":[{\"type\":\"heatmap\",\"colorbar\":{\"outlinewidth\":0,\"ticks\":\"\"},\"colorscale\":[[0.0,\"#0d0887\"],[0.1111111111111111,\"#46039f\"],[0.2222222222222222,\"#7201a8\"],[0.3333333333333333,\"#9c179e\"],[0.4444444444444444,\"#bd3786\"],[0.5555555555555556,\"#d8576b\"],[0.6666666666666666,\"#ed7953\"],[0.7777777777777778,\"#fb9f3a\"],[0.8888888888888888,\"#fdca26\"],[1.0,\"#f0f921\"]]}],\"heatmapgl\":[{\"type\":\"heatmapgl\",\"colorbar\":{\"outlinewidth\":0,\"ticks\":\"\"},\"colorscale\":[[0.0,\"#0d0887\"],[0.1111111111111111,\"#46039f\"],[0.2222222222222222,\"#7201a8\"],[0.3333333333333333,\"#9c179e\"],[0.4444444444444444,\"#bd3786\"],[0.5555555555555556,\"#d8576b\"],[0.6666666666666666,\"#ed7953\"],[0.7777777777777778,\"#fb9f3a\"],[0.8888888888888888,\"#fdca26\"],[1.0,\"#f0f921\"]]}],\"contourcarpet\":[{\"type\":\"contourcarpet\",\"colorbar\":{\"outlinewidth\":0,\"ticks\":\"\"}}],\"contour\":[{\"type\":\"contour\",\"colorbar\":{\"outlinewidth\":0,\"ticks\":\"\"},\"colorscale\":[[0.0,\"#0d0887\"],[0.1111111111111111,\"#46039f\"],[0.2222222222222222,\"#7201a8\"],[0.3333333333333333,\"#9c179e\"],[0.4444444444444444,\"#bd3786\"],[0.5555555555555556,\"#d8576b\"],[0.6666666666666666,\"#ed7953\"],[0.7777777777777778,\"#fb9f3a\"],[0.8888888888888888,\"#fdca26\"],[1.0,\"#f0f921\"]]}],\"surface\":[{\"type\":\"surface\",\"colorbar\":{\"outlinewidth\":0,\"ticks\":\"\"},\"colorscale\":[[0.0,\"#0d0887\"],[0.1111111111111111,\"#46039f\"],[0.2222222222222222,\"#7201a8\"],[0.3333333333333333,\"#9c179e\"],[0.4444444444444444,\"#bd3786\"],[0.5555555555555556,\"#d8576b\"],[0.6666666666666666,\"#ed7953\"],[0.7777777777777778,\"#fb9f3a\"],[0.8888888888888888,\"#fdca26\"],[1.0,\"#f0f921\"]]}],\"mesh3d\":[{\"type\":\"mesh3d\",\"colorbar\":{\"outlinewidth\":0,\"ticks\":\"\"}}],\"scatter\":[{\"fillpattern\":{\"fillmode\":\"overlay\",\"size\":10,\"solidity\":0.2},\"type\":\"scatter\"}],\"parcoords\":[{\"type\":\"parcoords\",\"line\":{\"colorbar\":{\"outlinewidth\":0,\"ticks\":\"\"}}}],\"scatterpolargl\":[{\"type\":\"scatterpolargl\",\"marker\":{\"colorbar\":{\"outlinewidth\":0,\"ticks\":\"\"}}}],\"bar\":[{\"error_x\":{\"color\":\"#2a3f5f\"},\"error_y\":{\"color\":\"#2a3f5f\"},\"marker\":{\"line\":{\"color\":\"#E5ECF6\",\"width\":0.5},\"pattern\":{\"fillmode\":\"overlay\",\"size\":10,\"solidity\":0.2}},\"type\":\"bar\"}],\"scattergeo\":[{\"type\":\"scattergeo\",\"marker\":{\"colorbar\":{\"outlinewidth\":0,\"ticks\":\"\"}}}],\"scatterpolar\":[{\"type\":\"scatterpolar\",\"marker\":{\"colorbar\":{\"outlinewidth\":0,\"ticks\":\"\"}}}],\"histogram\":[{\"marker\":{\"pattern\":{\"fillmode\":\"overlay\",\"size\":10,\"solidity\":0.2}},\"type\":\"histogram\"}],\"scattergl\":[{\"type\":\"scattergl\",\"marker\":{\"colorbar\":{\"outlinewidth\":0,\"ticks\":\"\"}}}],\"scatter3d\":[{\"type\":\"scatter3d\",\"line\":{\"colorbar\":{\"outlinewidth\":0,\"ticks\":\"\"}},\"marker\":{\"colorbar\":{\"outlinewidth\":0,\"ticks\":\"\"}}}],\"scattermapbox\":[{\"type\":\"scattermapbox\",\"marker\":{\"colorbar\":{\"outlinewidth\":0,\"ticks\":\"\"}}}],\"scatterternary\":[{\"type\":\"scatterternary\",\"marker\":{\"colorbar\":{\"outlinewidth\":0,\"ticks\":\"\"}}}],\"scattercarpet\":[{\"type\":\"scattercarpet\",\"marker\":{\"colorbar\":{\"outlinewidth\":0,\"ticks\":\"\"}}}],\"carpet\":[{\"aaxis\":{\"endlinecolor\":\"#2a3f5f\",\"gridcolor\":\"white\",\"linecolor\":\"white\",\"minorgridcolor\":\"white\",\"startlinecolor\":\"#2a3f5f\"},\"baxis\":{\"endlinecolor\":\"#2a3f5f\",\"gridcolor\":\"white\",\"linecolor\":\"white\",\"minorgridcolor\":\"white\",\"startlinecolor\":\"#2a3f5f\"},\"type\":\"carpet\"}],\"table\":[{\"cells\":{\"fill\":{\"color\":\"#EBF0F8\"},\"line\":{\"color\":\"white\"}},\"header\":{\"fill\":{\"color\":\"#C8D4E3\"},\"line\":{\"color\":\"white\"}},\"type\":\"table\"}],\"barpolar\":[{\"marker\":{\"line\":{\"color\":\"#E5ECF6\",\"width\":0.5},\"pattern\":{\"fillmode\":\"overlay\",\"size\":10,\"solidity\":0.2}},\"type\":\"barpolar\"}],\"pie\":[{\"automargin\":true,\"type\":\"pie\"}]},\"layout\":{\"autotypenumbers\":\"strict\",\"colorway\":[\"#636efa\",\"#EF553B\",\"#00cc96\",\"#ab63fa\",\"#FFA15A\",\"#19d3f3\",\"#FF6692\",\"#B6E880\",\"#FF97FF\",\"#FECB52\"],\"font\":{\"color\":\"#2a3f5f\"},\"hovermode\":\"closest\",\"hoverlabel\":{\"align\":\"left\"},\"paper_bgcolor\":\"white\",\"plot_bgcolor\":\"#E5ECF6\",\"polar\":{\"bgcolor\":\"#E5ECF6\",\"angularaxis\":{\"gridcolor\":\"white\",\"linecolor\":\"white\",\"ticks\":\"\"},\"radialaxis\":{\"gridcolor\":\"white\",\"linecolor\":\"white\",\"ticks\":\"\"}},\"ternary\":{\"bgcolor\":\"#E5ECF6\",\"aaxis\":{\"gridcolor\":\"white\",\"linecolor\":\"white\",\"ticks\":\"\"},\"baxis\":{\"gridcolor\":\"white\",\"linecolor\":\"white\",\"ticks\":\"\"},\"caxis\":{\"gridcolor\":\"white\",\"linecolor\":\"white\",\"ticks\":\"\"}},\"coloraxis\":{\"colorbar\":{\"outlinewidth\":0,\"ticks\":\"\"}},\"colorscale\":{\"sequential\":[[0.0,\"#0d0887\"],[0.1111111111111111,\"#46039f\"],[0.2222222222222222,\"#7201a8\"],[0.3333333333333333,\"#9c179e\"],[0.4444444444444444,\"#bd3786\"],[0.5555555555555556,\"#d8576b\"],[0.6666666666666666,\"#ed7953\"],[0.7777777777777778,\"#fb9f3a\"],[0.8888888888888888,\"#fdca26\"],[1.0,\"#f0f921\"]],\"sequentialminus\":[[0.0,\"#0d0887\"],[0.1111111111111111,\"#46039f\"],[0.2222222222222222,\"#7201a8\"],[0.3333333333333333,\"#9c179e\"],[0.4444444444444444,\"#bd3786\"],[0.5555555555555556,\"#d8576b\"],[0.6666666666666666,\"#ed7953\"],[0.7777777777777778,\"#fb9f3a\"],[0.8888888888888888,\"#fdca26\"],[1.0,\"#f0f921\"]],\"diverging\":[[0,\"#8e0152\"],[0.1,\"#c51b7d\"],[0.2,\"#de77ae\"],[0.3,\"#f1b6da\"],[0.4,\"#fde0ef\"],[0.5,\"#f7f7f7\"],[0.6,\"#e6f5d0\"],[0.7,\"#b8e186\"],[0.8,\"#7fbc41\"],[0.9,\"#4d9221\"],[1,\"#276419\"]]},\"xaxis\":{\"gridcolor\":\"white\",\"linecolor\":\"white\",\"ticks\":\"\",\"title\":{\"standoff\":15},\"zerolinecolor\":\"white\",\"automargin\":true,\"zerolinewidth\":2},\"yaxis\":{\"gridcolor\":\"white\",\"linecolor\":\"white\",\"ticks\":\"\",\"title\":{\"standoff\":15},\"zerolinecolor\":\"white\",\"automargin\":true,\"zerolinewidth\":2},\"scene\":{\"xaxis\":{\"backgroundcolor\":\"#E5ECF6\",\"gridcolor\":\"white\",\"linecolor\":\"white\",\"showbackground\":true,\"ticks\":\"\",\"zerolinecolor\":\"white\",\"gridwidth\":2},\"yaxis\":{\"backgroundcolor\":\"#E5ECF6\",\"gridcolor\":\"white\",\"linecolor\":\"white\",\"showbackground\":true,\"ticks\":\"\",\"zerolinecolor\":\"white\",\"gridwidth\":2},\"zaxis\":{\"backgroundcolor\":\"#E5ECF6\",\"gridcolor\":\"white\",\"linecolor\":\"white\",\"showbackground\":true,\"ticks\":\"\",\"zerolinecolor\":\"white\",\"gridwidth\":2}},\"shapedefaults\":{\"line\":{\"color\":\"#2a3f5f\"}},\"annotationdefaults\":{\"arrowcolor\":\"#2a3f5f\",\"arrowhead\":0,\"arrowwidth\":1},\"geo\":{\"bgcolor\":\"white\",\"landcolor\":\"#E5ECF6\",\"subunitcolor\":\"white\",\"showland\":true,\"showlakes\":true,\"lakecolor\":\"white\"},\"title\":{\"x\":0.05},\"mapbox\":{\"style\":\"light\"}}},\"scene\":{\"domain\":{\"x\":[0.0,1.0],\"y\":[0.0,1.0]},\"xaxis\":{\"title\":{\"text\":\"sepal_length\"}},\"yaxis\":{\"title\":{\"text\":\"sepal_width\"}},\"zaxis\":{\"title\":{\"text\":\"petal_width\"}}},\"legend\":{\"title\":{\"text\":\"species\"},\"tracegroupgap\":0},\"title\":{\"text\":\"3D Scatter Plot of Iris Dataset\"}},                        {\"responsive\": true}                    ).then(function(){\n",
              "                            \n",
              "var gd = document.getElementById('5c8f2add-b9e6-48fc-a8f5-9cc4d7588d10');\n",
              "var x = new MutationObserver(function (mutations, observer) {{\n",
              "        var display = window.getComputedStyle(gd).display;\n",
              "        if (!display || display === 'none') {{\n",
              "            console.log([gd, 'removed!']);\n",
              "            Plotly.purge(gd);\n",
              "            observer.disconnect();\n",
              "        }}\n",
              "}});\n",
              "\n",
              "// Listen for the removal of the full notebook cells\n",
              "var notebookContainer = gd.closest('#notebook-container');\n",
              "if (notebookContainer) {{\n",
              "    x.observe(notebookContainer, {childList: true});\n",
              "}}\n",
              "\n",
              "// Listen for the clearing of the current output cell\n",
              "var outputEl = gd.closest('.output');\n",
              "if (outputEl) {{\n",
              "    x.observe(outputEl, {childList: true});\n",
              "}}\n",
              "\n",
              "                        })                };                            </script>        </div>\n",
              "</body>\n",
              "</html>"
            ]
          },
          "metadata": {}
        }
      ]
    },
    {
      "cell_type": "code",
      "source": [],
      "metadata": {
        "id": "a3eEgfhXKQ7J"
      },
      "execution_count": null,
      "outputs": []
    },
    {
      "cell_type": "code",
      "source": [],
      "metadata": {
        "id": "98PP3oYLKBXT"
      },
      "execution_count": null,
      "outputs": []
    },
    {
      "cell_type": "code",
      "source": [],
      "metadata": {
        "id": "0paYBjaiKBVD"
      },
      "execution_count": null,
      "outputs": []
    },
    {
      "cell_type": "code",
      "source": [],
      "metadata": {
        "id": "XsPyoDmuKBS5"
      },
      "execution_count": null,
      "outputs": []
    },
    {
      "cell_type": "code",
      "source": [],
      "metadata": {
        "id": "Gs7dPepqKBJf"
      },
      "execution_count": null,
      "outputs": []
    }
  ]
}